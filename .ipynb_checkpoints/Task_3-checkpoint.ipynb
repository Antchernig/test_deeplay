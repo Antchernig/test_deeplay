{
 "cells": [
  {
   "cell_type": "code",
   "execution_count": 1,
   "id": "f3d65ae6",
   "metadata": {},
   "outputs": [],
   "source": [
    "import pandas as pd\n",
    "import numpy as np\n",
    "import matplotlib.pyplot as plt\n",
    "\n",
    "from sklearn.decomposition import PCA\n",
    "from sklearn.preprocessing import StandardScaler"
   ]
  },
  {
   "cell_type": "code",
   "execution_count": 2,
   "id": "069537e5",
   "metadata": {},
   "outputs": [],
   "source": [
    "data = pd.read_excel('Testovoe_data.xlsx', sheet_name=3)"
   ]
  },
  {
   "cell_type": "code",
   "execution_count": 4,
   "id": "17145999",
   "metadata": {},
   "outputs": [
    {
     "data": {
      "text/html": [
       "<div>\n",
       "<style scoped>\n",
       "    .dataframe tbody tr th:only-of-type {\n",
       "        vertical-align: middle;\n",
       "    }\n",
       "\n",
       "    .dataframe tbody tr th {\n",
       "        vertical-align: top;\n",
       "    }\n",
       "\n",
       "    .dataframe thead th {\n",
       "        text-align: right;\n",
       "    }\n",
       "</style>\n",
       "<table border=\"1\" class=\"dataframe\">\n",
       "  <thead>\n",
       "    <tr style=\"text-align: right;\">\n",
       "      <th></th>\n",
       "      <th>player</th>\n",
       "      <th>stat1</th>\n",
       "      <th>stat2</th>\n",
       "      <th>stat3</th>\n",
       "      <th>stat4</th>\n",
       "      <th>stat5</th>\n",
       "      <th>stat6</th>\n",
       "      <th>stat7</th>\n",
       "      <th>stat8</th>\n",
       "      <th>stat9</th>\n",
       "      <th>...</th>\n",
       "      <th>stat118</th>\n",
       "      <th>stat119</th>\n",
       "      <th>stat120</th>\n",
       "      <th>stat121</th>\n",
       "      <th>stat122</th>\n",
       "      <th>stat123</th>\n",
       "      <th>stat124</th>\n",
       "      <th>stat125</th>\n",
       "      <th>stat126</th>\n",
       "      <th>stat127</th>\n",
       "    </tr>\n",
       "  </thead>\n",
       "  <tbody>\n",
       "    <tr>\n",
       "      <th>0</th>\n",
       "      <td>gr_player1</td>\n",
       "      <td>0.000000</td>\n",
       "      <td>0.551756</td>\n",
       "      <td>NaN</td>\n",
       "      <td>0.227376</td>\n",
       "      <td>0.089159</td>\n",
       "      <td>NaN</td>\n",
       "      <td>0.625330</td>\n",
       "      <td>NaN</td>\n",
       "      <td>0.080153</td>\n",
       "      <td>...</td>\n",
       "      <td>0.450982</td>\n",
       "      <td>0.205062</td>\n",
       "      <td>0.326149</td>\n",
       "      <td>0.255466</td>\n",
       "      <td>0.294282</td>\n",
       "      <td>0.002488</td>\n",
       "      <td>NaN</td>\n",
       "      <td>0.265898</td>\n",
       "      <td>NaN</td>\n",
       "      <td>NaN</td>\n",
       "    </tr>\n",
       "    <tr>\n",
       "      <th>1</th>\n",
       "      <td>gr_player2</td>\n",
       "      <td>0.000000</td>\n",
       "      <td>0.559532</td>\n",
       "      <td>NaN</td>\n",
       "      <td>0.197149</td>\n",
       "      <td>0.109987</td>\n",
       "      <td>NaN</td>\n",
       "      <td>0.685624</td>\n",
       "      <td>NaN</td>\n",
       "      <td>0.120219</td>\n",
       "      <td>...</td>\n",
       "      <td>0.438461</td>\n",
       "      <td>0.223621</td>\n",
       "      <td>0.325301</td>\n",
       "      <td>0.274218</td>\n",
       "      <td>0.289307</td>\n",
       "      <td>0.013705</td>\n",
       "      <td>NaN</td>\n",
       "      <td>0.251024</td>\n",
       "      <td>NaN</td>\n",
       "      <td>NaN</td>\n",
       "    </tr>\n",
       "    <tr>\n",
       "      <th>2</th>\n",
       "      <td>gr_player3</td>\n",
       "      <td>0.000013</td>\n",
       "      <td>0.542488</td>\n",
       "      <td>NaN</td>\n",
       "      <td>0.193920</td>\n",
       "      <td>0.079732</td>\n",
       "      <td>NaN</td>\n",
       "      <td>0.619612</td>\n",
       "      <td>NaN</td>\n",
       "      <td>0.072533</td>\n",
       "      <td>...</td>\n",
       "      <td>0.443868</td>\n",
       "      <td>0.197362</td>\n",
       "      <td>0.323240</td>\n",
       "      <td>0.256494</td>\n",
       "      <td>0.303659</td>\n",
       "      <td>0.005041</td>\n",
       "      <td>NaN</td>\n",
       "      <td>0.258904</td>\n",
       "      <td>NaN</td>\n",
       "      <td>NaN</td>\n",
       "    </tr>\n",
       "    <tr>\n",
       "      <th>3</th>\n",
       "      <td>gr_player4</td>\n",
       "      <td>0.000000</td>\n",
       "      <td>0.560295</td>\n",
       "      <td>NaN</td>\n",
       "      <td>0.228996</td>\n",
       "      <td>0.078283</td>\n",
       "      <td>NaN</td>\n",
       "      <td>0.626145</td>\n",
       "      <td>NaN</td>\n",
       "      <td>0.049505</td>\n",
       "      <td>...</td>\n",
       "      <td>0.439452</td>\n",
       "      <td>0.201277</td>\n",
       "      <td>0.311881</td>\n",
       "      <td>0.253795</td>\n",
       "      <td>0.292665</td>\n",
       "      <td>0.005589</td>\n",
       "      <td>NaN</td>\n",
       "      <td>0.244630</td>\n",
       "      <td>NaN</td>\n",
       "      <td>NaN</td>\n",
       "    </tr>\n",
       "    <tr>\n",
       "      <th>4</th>\n",
       "      <td>gr_player5</td>\n",
       "      <td>0.000102</td>\n",
       "      <td>0.592927</td>\n",
       "      <td>NaN</td>\n",
       "      <td>0.231728</td>\n",
       "      <td>0.057743</td>\n",
       "      <td>NaN</td>\n",
       "      <td>0.597334</td>\n",
       "      <td>NaN</td>\n",
       "      <td>0.058140</td>\n",
       "      <td>...</td>\n",
       "      <td>0.426566</td>\n",
       "      <td>0.202446</td>\n",
       "      <td>0.322222</td>\n",
       "      <td>0.267663</td>\n",
       "      <td>0.296040</td>\n",
       "      <td>0.004804</td>\n",
       "      <td>NaN</td>\n",
       "      <td>0.255882</td>\n",
       "      <td>NaN</td>\n",
       "      <td>NaN</td>\n",
       "    </tr>\n",
       "  </tbody>\n",
       "</table>\n",
       "<p>5 rows × 128 columns</p>\n",
       "</div>"
      ],
      "text/plain": [
       "       player     stat1     stat2  stat3     stat4     stat5  stat6     stat7  \\\n",
       "0  gr_player1  0.000000  0.551756    NaN  0.227376  0.089159    NaN  0.625330   \n",
       "1  gr_player2  0.000000  0.559532    NaN  0.197149  0.109987    NaN  0.685624   \n",
       "2  gr_player3  0.000013  0.542488    NaN  0.193920  0.079732    NaN  0.619612   \n",
       "3  gr_player4  0.000000  0.560295    NaN  0.228996  0.078283    NaN  0.626145   \n",
       "4  gr_player5  0.000102  0.592927    NaN  0.231728  0.057743    NaN  0.597334   \n",
       "\n",
       "   stat8     stat9  ...   stat118   stat119   stat120   stat121   stat122  \\\n",
       "0    NaN  0.080153  ...  0.450982  0.205062  0.326149  0.255466  0.294282   \n",
       "1    NaN  0.120219  ...  0.438461  0.223621  0.325301  0.274218  0.289307   \n",
       "2    NaN  0.072533  ...  0.443868  0.197362  0.323240  0.256494  0.303659   \n",
       "3    NaN  0.049505  ...  0.439452  0.201277  0.311881  0.253795  0.292665   \n",
       "4    NaN  0.058140  ...  0.426566  0.202446  0.322222  0.267663  0.296040   \n",
       "\n",
       "    stat123  stat124   stat125  stat126  stat127  \n",
       "0  0.002488      NaN  0.265898      NaN      NaN  \n",
       "1  0.013705      NaN  0.251024      NaN      NaN  \n",
       "2  0.005041      NaN  0.258904      NaN      NaN  \n",
       "3  0.005589      NaN  0.244630      NaN      NaN  \n",
       "4  0.004804      NaN  0.255882      NaN      NaN  \n",
       "\n",
       "[5 rows x 128 columns]"
      ]
     },
     "execution_count": 4,
     "metadata": {},
     "output_type": "execute_result"
    }
   ],
   "source": [
    "data.head()"
   ]
  },
  {
   "cell_type": "code",
   "execution_count": 5,
   "id": "7d969c43",
   "metadata": {},
   "outputs": [
    {
     "name": "stdout",
     "output_type": "stream",
     "text": [
      "stat3 must be droped\n",
      "stat6 must be droped\n",
      "stat8 must be droped\n",
      "stat10 must be droped\n",
      "stat18 must be droped\n",
      "stat21 must be droped\n",
      "stat26 must be droped\n",
      "stat28 must be droped\n",
      "stat29 must be droped\n",
      "stat31 must be droped\n",
      "stat52 must be droped\n",
      "stat67 must be droped\n",
      "stat83 must be droped\n",
      "stat84 must be droped\n",
      "stat85 must be droped\n",
      "stat86 must be droped\n",
      "stat91 must be droped\n",
      "stat101 must be droped\n",
      "stat105 must be droped\n",
      "stat108 must be droped\n",
      "stat112 must be droped\n",
      "stat114 must be droped\n",
      "stat116 must be droped\n",
      "stat124 must be droped\n",
      "stat126 must be droped\n",
      "stat127 must be droped\n",
      "Done!\n"
     ]
    }
   ],
   "source": [
    "columns_to_drop = []\n",
    "for i in range(1, data.shape[-1]):\n",
    "    if data.iloc[:, i].count() == 0:\n",
    "        columns_to_drop.append(data.columns[i])\n",
    "        print(f'{data.columns[i]} must be droped')\n",
    "print('Done!')"
   ]
  },
  {
   "cell_type": "code",
   "execution_count": 6,
   "id": "52c0fbc8",
   "metadata": {},
   "outputs": [],
   "source": [
    "data = data.drop(columns_to_drop, axis=1)"
   ]
  },
  {
   "cell_type": "code",
   "execution_count": 7,
   "id": "29d6b075",
   "metadata": {},
   "outputs": [
    {
     "data": {
      "text/plain": [
       "(53, 102)"
      ]
     },
     "execution_count": 7,
     "metadata": {},
     "output_type": "execute_result"
    }
   ],
   "source": [
    "data.shape"
   ]
  },
  {
   "cell_type": "code",
   "execution_count": 8,
   "id": "4e22c0f6",
   "metadata": {},
   "outputs": [
    {
     "name": "stdout",
     "output_type": "stream",
     "text": [
      "stat34: 1 values\n",
      "stat53: 29 values\n",
      "stat62: 5 values\n",
      "stat92: 4 values\n"
     ]
    }
   ],
   "source": [
    "for i in range(1, data.shape[-1]):\n",
    "    if data.iloc[:, i].count() < len(data):\n",
    "        print(f'{data.columns[i]}: {data.iloc[:, i].count()} values')"
   ]
  },
  {
   "cell_type": "code",
   "execution_count": 9,
   "id": "d2e89790",
   "metadata": {},
   "outputs": [
    {
     "data": {
      "text/plain": [
       "array([nan,  0.])"
      ]
     },
     "execution_count": 9,
     "metadata": {},
     "output_type": "execute_result"
    }
   ],
   "source": [
    "data['stat34'].unique()"
   ]
  },
  {
   "cell_type": "code",
   "execution_count": 10,
   "id": "0977841a",
   "metadata": {},
   "outputs": [
    {
     "data": {
      "text/plain": [
       "array([       nan, 0.5       , 0.16666667, 0.        ])"
      ]
     },
     "execution_count": 10,
     "metadata": {},
     "output_type": "execute_result"
    }
   ],
   "source": [
    "data['stat62'].unique()"
   ]
  },
  {
   "cell_type": "code",
   "execution_count": 11,
   "id": "df8e77e3",
   "metadata": {},
   "outputs": [
    {
     "data": {
      "text/plain": [
       "array([nan,  0.])"
      ]
     },
     "execution_count": 11,
     "metadata": {},
     "output_type": "execute_result"
    }
   ],
   "source": [
    "data['stat92'].unique()"
   ]
  },
  {
   "cell_type": "code",
   "execution_count": 13,
   "id": "c87937a9",
   "metadata": {},
   "outputs": [],
   "source": [
    "data = data.drop(['stat34', 'stat62', 'stat92'], axis=1)"
   ]
  },
  {
   "cell_type": "code",
   "execution_count": 14,
   "id": "fba45767",
   "metadata": {},
   "outputs": [
    {
     "name": "stdout",
     "output_type": "stream",
     "text": [
      "stat53: 29 values\n"
     ]
    }
   ],
   "source": [
    "for i in range(1, data.shape[-1]):\n",
    "    if data.iloc[:, i].count() < len(data):\n",
    "        print(f'{data.columns[i]}: {data.iloc[:, i].count()} values')"
   ]
  },
  {
   "cell_type": "code",
   "execution_count": 17,
   "id": "53fc17fa",
   "metadata": {},
   "outputs": [
    {
     "data": {
      "text/plain": [
       "<AxesSubplot:>"
      ]
     },
     "execution_count": 17,
     "metadata": {},
     "output_type": "execute_result"
    },
    {
     "data": {
      "image/png": "[encoded data removed]",
      "text/plain": [
       "<Figure size 432x288 with 1 Axes>"
      ]
     },
     "metadata": {
      "needs_background": "light"
     },
     "output_type": "display_data"
    }
   ],
   "source": [
    "data['stat53'].hist()"
   ]
  },
  {
   "cell_type": "code",
   "execution_count": 18,
   "id": "731a2d89",
   "metadata": {},
   "outputs": [],
   "source": [
    "data = data.drop(['stat53'], axis=1)"
   ]
  },
  {
   "cell_type": "code",
   "execution_count": 20,
   "id": "5cb41ca3",
   "metadata": {},
   "outputs": [
    {
     "data": {
      "text/plain": [
       "(53, 98)"
      ]
     },
     "execution_count": 20,
     "metadata": {},
     "output_type": "execute_result"
    }
   ],
   "source": [
    "data.shape"
   ]
  },
  {
   "cell_type": "code",
   "execution_count": 21,
   "id": "97d5dff3",
   "metadata": {},
   "outputs": [
    {
     "data": {
      "text/plain": [
       "array([False])"
      ]
     },
     "execution_count": 21,
     "metadata": {},
     "output_type": "execute_result"
    }
   ],
   "source": [
    "data.duplicated().unique()"
   ]
  },
  {
   "cell_type": "code",
   "execution_count": 26,
   "id": "53876e27",
   "metadata": {},
   "outputs": [],
   "source": [
    "new_players_df = data.iloc[49:, :]"
   ]
  },
  {
   "cell_type": "code",
   "execution_count": 28,
   "id": "96e17ffb",
   "metadata": {},
   "outputs": [],
   "source": [
    "grouped_players_df = data.iloc[:49, :]"
   ]
  },
  {
   "cell_type": "code",
   "execution_count": 31,
   "id": "0742dfdd",
   "metadata": {},
   "outputs": [
    {
     "data": {
      "text/html": [
       "<div>\n",
       "<style scoped>\n",
       "    .dataframe tbody tr th:only-of-type {\n",
       "        vertical-align: middle;\n",
       "    }\n",
       "\n",
       "    .dataframe tbody tr th {\n",
       "        vertical-align: top;\n",
       "    }\n",
       "\n",
       "    .dataframe thead th {\n",
       "        text-align: right;\n",
       "    }\n",
       "</style>\n",
       "<table border=\"1\" class=\"dataframe\">\n",
       "  <thead>\n",
       "    <tr style=\"text-align: right;\">\n",
       "      <th></th>\n",
       "      <th>stat1</th>\n",
       "      <th>stat2</th>\n",
       "      <th>stat4</th>\n",
       "      <th>stat5</th>\n",
       "      <th>stat7</th>\n",
       "      <th>stat9</th>\n",
       "      <th>stat11</th>\n",
       "      <th>stat12</th>\n",
       "      <th>stat13</th>\n",
       "      <th>stat14</th>\n",
       "      <th>...</th>\n",
       "      <th>stat113</th>\n",
       "      <th>stat115</th>\n",
       "      <th>stat117</th>\n",
       "      <th>stat118</th>\n",
       "      <th>stat119</th>\n",
       "      <th>stat120</th>\n",
       "      <th>stat121</th>\n",
       "      <th>stat122</th>\n",
       "      <th>stat123</th>\n",
       "      <th>stat125</th>\n",
       "    </tr>\n",
       "  </thead>\n",
       "  <tbody>\n",
       "    <tr>\n",
       "      <th>count</th>\n",
       "      <td>49.000000</td>\n",
       "      <td>49.000000</td>\n",
       "      <td>49.000000</td>\n",
       "      <td>49.000000</td>\n",
       "      <td>49.000000</td>\n",
       "      <td>49.000000</td>\n",
       "      <td>49.000000</td>\n",
       "      <td>49.000000</td>\n",
       "      <td>49.000000</td>\n",
       "      <td>49.000000</td>\n",
       "      <td>...</td>\n",
       "      <td>49.000000</td>\n",
       "      <td>49.000000</td>\n",
       "      <td>49.000000</td>\n",
       "      <td>49.000000</td>\n",
       "      <td>49.000000</td>\n",
       "      <td>49.000000</td>\n",
       "      <td>49.000000</td>\n",
       "      <td>49.000000</td>\n",
       "      <td>49.000000</td>\n",
       "      <td>49.000000</td>\n",
       "    </tr>\n",
       "    <tr>\n",
       "      <th>mean</th>\n",
       "      <td>0.000029</td>\n",
       "      <td>0.540533</td>\n",
       "      <td>0.209573</td>\n",
       "      <td>0.083722</td>\n",
       "      <td>0.619539</td>\n",
       "      <td>0.088133</td>\n",
       "      <td>0.645463</td>\n",
       "      <td>0.103378</td>\n",
       "      <td>0.078916</td>\n",
       "      <td>0.174173</td>\n",
       "      <td>...</td>\n",
       "      <td>0.533279</td>\n",
       "      <td>0.524810</td>\n",
       "      <td>0.303139</td>\n",
       "      <td>0.451366</td>\n",
       "      <td>0.208157</td>\n",
       "      <td>0.317417</td>\n",
       "      <td>0.267814</td>\n",
       "      <td>0.302837</td>\n",
       "      <td>0.009442</td>\n",
       "      <td>0.264321</td>\n",
       "    </tr>\n",
       "    <tr>\n",
       "      <th>std</th>\n",
       "      <td>0.000044</td>\n",
       "      <td>0.042097</td>\n",
       "      <td>0.023784</td>\n",
       "      <td>0.017967</td>\n",
       "      <td>0.025093</td>\n",
       "      <td>0.028859</td>\n",
       "      <td>0.045342</td>\n",
       "      <td>0.019171</td>\n",
       "      <td>0.008759</td>\n",
       "      <td>0.016767</td>\n",
       "      <td>...</td>\n",
       "      <td>0.042637</td>\n",
       "      <td>0.019642</td>\n",
       "      <td>0.013051</td>\n",
       "      <td>0.018891</td>\n",
       "      <td>0.010585</td>\n",
       "      <td>0.039710</td>\n",
       "      <td>0.012628</td>\n",
       "      <td>0.017172</td>\n",
       "      <td>0.007946</td>\n",
       "      <td>0.010170</td>\n",
       "    </tr>\n",
       "    <tr>\n",
       "      <th>min</th>\n",
       "      <td>0.000000</td>\n",
       "      <td>0.438389</td>\n",
       "      <td>0.165808</td>\n",
       "      <td>0.048795</td>\n",
       "      <td>0.561432</td>\n",
       "      <td>0.030928</td>\n",
       "      <td>0.528707</td>\n",
       "      <td>0.063344</td>\n",
       "      <td>0.050592</td>\n",
       "      <td>0.135017</td>\n",
       "      <td>...</td>\n",
       "      <td>0.432753</td>\n",
       "      <td>0.485176</td>\n",
       "      <td>0.275128</td>\n",
       "      <td>0.424543</td>\n",
       "      <td>0.178428</td>\n",
       "      <td>0.206704</td>\n",
       "      <td>0.242901</td>\n",
       "      <td>0.274049</td>\n",
       "      <td>0.000000</td>\n",
       "      <td>0.244630</td>\n",
       "    </tr>\n",
       "    <tr>\n",
       "      <th>25%</th>\n",
       "      <td>0.000000</td>\n",
       "      <td>0.513078</td>\n",
       "      <td>0.193920</td>\n",
       "      <td>0.069825</td>\n",
       "      <td>0.604167</td>\n",
       "      <td>0.066667</td>\n",
       "      <td>0.623690</td>\n",
       "      <td>0.093294</td>\n",
       "      <td>0.073726</td>\n",
       "      <td>0.162665</td>\n",
       "      <td>...</td>\n",
       "      <td>0.503948</td>\n",
       "      <td>0.511203</td>\n",
       "      <td>0.294986</td>\n",
       "      <td>0.439452</td>\n",
       "      <td>0.201608</td>\n",
       "      <td>0.297872</td>\n",
       "      <td>0.258882</td>\n",
       "      <td>0.290530</td>\n",
       "      <td>0.003671</td>\n",
       "      <td>0.258438</td>\n",
       "    </tr>\n",
       "    <tr>\n",
       "      <th>50%</th>\n",
       "      <td>0.000000</td>\n",
       "      <td>0.542497</td>\n",
       "      <td>0.212137</td>\n",
       "      <td>0.080989</td>\n",
       "      <td>0.620611</td>\n",
       "      <td>0.088235</td>\n",
       "      <td>0.649620</td>\n",
       "      <td>0.100592</td>\n",
       "      <td>0.080154</td>\n",
       "      <td>0.170047</td>\n",
       "      <td>...</td>\n",
       "      <td>0.536821</td>\n",
       "      <td>0.525614</td>\n",
       "      <td>0.302927</td>\n",
       "      <td>0.445217</td>\n",
       "      <td>0.207946</td>\n",
       "      <td>0.315126</td>\n",
       "      <td>0.266242</td>\n",
       "      <td>0.299060</td>\n",
       "      <td>0.007303</td>\n",
       "      <td>0.261988</td>\n",
       "    </tr>\n",
       "    <tr>\n",
       "      <th>75%</th>\n",
       "      <td>0.000037</td>\n",
       "      <td>0.565886</td>\n",
       "      <td>0.228403</td>\n",
       "      <td>0.097610</td>\n",
       "      <td>0.633764</td>\n",
       "      <td>0.106383</td>\n",
       "      <td>0.664804</td>\n",
       "      <td>0.119895</td>\n",
       "      <td>0.084339</td>\n",
       "      <td>0.188033</td>\n",
       "      <td>...</td>\n",
       "      <td>0.558827</td>\n",
       "      <td>0.540113</td>\n",
       "      <td>0.311545</td>\n",
       "      <td>0.462004</td>\n",
       "      <td>0.214464</td>\n",
       "      <td>0.340476</td>\n",
       "      <td>0.276149</td>\n",
       "      <td>0.314882</td>\n",
       "      <td>0.012301</td>\n",
       "      <td>0.269510</td>\n",
       "    </tr>\n",
       "    <tr>\n",
       "      <th>max</th>\n",
       "      <td>0.000188</td>\n",
       "      <td>0.623913</td>\n",
       "      <td>0.249847</td>\n",
       "      <td>0.118987</td>\n",
       "      <td>0.685624</td>\n",
       "      <td>0.148515</td>\n",
       "      <td>0.779392</td>\n",
       "      <td>0.151344</td>\n",
       "      <td>0.097127</td>\n",
       "      <td>0.205647</td>\n",
       "      <td>...</td>\n",
       "      <td>0.614509</td>\n",
       "      <td>0.562930</td>\n",
       "      <td>0.330523</td>\n",
       "      <td>0.503048</td>\n",
       "      <td>0.232718</td>\n",
       "      <td>0.433898</td>\n",
       "      <td>0.295311</td>\n",
       "      <td>0.346110</td>\n",
       "      <td>0.034413</td>\n",
       "      <td>0.287544</td>\n",
       "    </tr>\n",
       "  </tbody>\n",
       "</table>\n",
       "<p>8 rows × 97 columns</p>\n",
       "</div>"
      ],
      "text/plain": [
       "           stat1      stat2      stat4      stat5      stat7      stat9  \\\n",
       "count  49.000000  49.000000  49.000000  49.000000  49.000000  49.000000   \n",
       "mean    0.000029   0.540533   0.209573   0.083722   0.619539   0.088133   \n",
       "std     0.000044   0.042097   0.023784   0.017967   0.025093   0.028859   \n",
       "min     0.000000   0.438389   0.165808   0.048795   0.561432   0.030928   \n",
       "25%     0.000000   0.513078   0.193920   0.069825   0.604167   0.066667   \n",
       "50%     0.000000   0.542497   0.212137   0.080989   0.620611   0.088235   \n",
       "75%     0.000037   0.565886   0.228403   0.097610   0.633764   0.106383   \n",
       "max     0.000188   0.623913   0.249847   0.118987   0.685624   0.148515   \n",
       "\n",
       "          stat11     stat12     stat13     stat14  ...    stat113    stat115  \\\n",
       "count  49.000000  49.000000  49.000000  49.000000  ...  49.000000  49.000000   \n",
       "mean    0.645463   0.103378   0.078916   0.174173  ...   0.533279   0.524810   \n",
       "std     0.045342   0.019171   0.008759   0.016767  ...   0.042637   0.019642   \n",
       "min     0.528707   0.063344   0.050592   0.135017  ...   0.432753   0.485176   \n",
       "25%     0.623690   0.093294   0.073726   0.162665  ...   0.503948   0.511203   \n",
       "50%     0.649620   0.100592   0.080154   0.170047  ...   0.536821   0.525614   \n",
       "75%     0.664804   0.119895   0.084339   0.188033  ...   0.558827   0.540113   \n",
       "max     0.779392   0.151344   0.097127   0.205647  ...   0.614509   0.562930   \n",
       "\n",
       "         stat117    stat118    stat119    stat120    stat121    stat122  \\\n",
       "count  49.000000  49.000000  49.000000  49.000000  49.000000  49.000000   \n",
       "mean    0.303139   0.451366   0.208157   0.317417   0.267814   0.302837   \n",
       "std     0.013051   0.018891   0.010585   0.039710   0.012628   0.017172   \n",
       "min     0.275128   0.424543   0.178428   0.206704   0.242901   0.274049   \n",
       "25%     0.294986   0.439452   0.201608   0.297872   0.258882   0.290530   \n",
       "50%     0.302927   0.445217   0.207946   0.315126   0.266242   0.299060   \n",
       "75%     0.311545   0.462004   0.214464   0.340476   0.276149   0.314882   \n",
       "max     0.330523   0.503048   0.232718   0.433898   0.295311   0.346110   \n",
       "\n",
       "         stat123    stat125  \n",
       "count  49.000000  49.000000  \n",
       "mean    0.009442   0.264321  \n",
       "std     0.007946   0.010170  \n",
       "min     0.000000   0.244630  \n",
       "25%     0.003671   0.258438  \n",
       "50%     0.007303   0.261988  \n",
       "75%     0.012301   0.269510  \n",
       "max     0.034413   0.287544  \n",
       "\n",
       "[8 rows x 97 columns]"
      ]
     },
     "execution_count": 31,
     "metadata": {},
     "output_type": "execute_result"
    }
   ],
   "source": [
    "grouped_players_df.describe()"
   ]
  },
  {
   "cell_type": "code",
   "execution_count": 103,
   "id": "4d490622",
   "metadata": {},
   "outputs": [],
   "source": [
    "scaler = StandardScaler()\n",
    "features_std = scaler.fit_transform(grouped_players_df.iloc[:, 1:].values)"
   ]
  },
  {
   "cell_type": "code",
   "execution_count": 104,
   "id": "4c3417b0",
   "metadata": {},
   "outputs": [],
   "source": [
    "new_pl_std = scaler.transform(new_players_df.iloc[:, 1:].values)"
   ]
  },
  {
   "cell_type": "code",
   "execution_count": 105,
   "id": "9e7d04d1",
   "metadata": {},
   "outputs": [],
   "source": [
    "new_pl_std = pd.DataFrame(new_pl_std)"
   ]
  },
  {
   "cell_type": "code",
   "execution_count": 106,
   "id": "5fcb90ca",
   "metadata": {},
   "outputs": [
    {
     "data": {
      "text/html": [
       "<div>\n",
       "<style scoped>\n",
       "    .dataframe tbody tr th:only-of-type {\n",
       "        vertical-align: middle;\n",
       "    }\n",
       "\n",
       "    .dataframe tbody tr th {\n",
       "        vertical-align: top;\n",
       "    }\n",
       "\n",
       "    .dataframe thead th {\n",
       "        text-align: right;\n",
       "    }\n",
       "</style>\n",
       "<table border=\"1\" class=\"dataframe\">\n",
       "  <thead>\n",
       "    <tr style=\"text-align: right;\">\n",
       "      <th></th>\n",
       "      <th>0</th>\n",
       "      <th>1</th>\n",
       "      <th>2</th>\n",
       "      <th>3</th>\n",
       "      <th>4</th>\n",
       "      <th>5</th>\n",
       "      <th>6</th>\n",
       "      <th>7</th>\n",
       "      <th>8</th>\n",
       "      <th>9</th>\n",
       "      <th>...</th>\n",
       "      <th>87</th>\n",
       "      <th>88</th>\n",
       "      <th>89</th>\n",
       "      <th>90</th>\n",
       "      <th>91</th>\n",
       "      <th>92</th>\n",
       "      <th>93</th>\n",
       "      <th>94</th>\n",
       "      <th>95</th>\n",
       "      <th>96</th>\n",
       "    </tr>\n",
       "  </thead>\n",
       "  <tbody>\n",
       "    <tr>\n",
       "      <th>0</th>\n",
       "      <td>-0.658179</td>\n",
       "      <td>0.328423</td>\n",
       "      <td>-0.332153</td>\n",
       "      <td>0.491673</td>\n",
       "      <td>-2.799959</td>\n",
       "      <td>1.193440</td>\n",
       "      <td>1.085546</td>\n",
       "      <td>0.822969</td>\n",
       "      <td>1.430383</td>\n",
       "      <td>1.271834</td>\n",
       "      <td>...</td>\n",
       "      <td>0.413405</td>\n",
       "      <td>-3.118626</td>\n",
       "      <td>-3.492036</td>\n",
       "      <td>-3.126400</td>\n",
       "      <td>-1.960478</td>\n",
       "      <td>4.689017</td>\n",
       "      <td>-0.035587</td>\n",
       "      <td>-8.093503</td>\n",
       "      <td>-0.989204</td>\n",
       "      <td>-2.677274</td>\n",
       "    </tr>\n",
       "    <tr>\n",
       "      <th>1</th>\n",
       "      <td>-0.658179</td>\n",
       "      <td>-0.416517</td>\n",
       "      <td>-1.075250</td>\n",
       "      <td>0.950713</td>\n",
       "      <td>-1.148041</td>\n",
       "      <td>0.077568</td>\n",
       "      <td>-1.317391</td>\n",
       "      <td>-0.639740</td>\n",
       "      <td>0.200099</td>\n",
       "      <td>0.644896</td>\n",
       "      <td>...</td>\n",
       "      <td>-0.520719</td>\n",
       "      <td>-0.977143</td>\n",
       "      <td>0.916899</td>\n",
       "      <td>0.442263</td>\n",
       "      <td>0.880890</td>\n",
       "      <td>0.231405</td>\n",
       "      <td>0.470825</td>\n",
       "      <td>0.094426</td>\n",
       "      <td>-0.271429</td>\n",
       "      <td>1.015032</td>\n",
       "    </tr>\n",
       "    <tr>\n",
       "      <th>2</th>\n",
       "      <td>0.323196</td>\n",
       "      <td>-0.561583</td>\n",
       "      <td>-0.458045</td>\n",
       "      <td>0.256888</td>\n",
       "      <td>0.739241</td>\n",
       "      <td>-0.225580</td>\n",
       "      <td>2.889338</td>\n",
       "      <td>1.274836</td>\n",
       "      <td>-1.288954</td>\n",
       "      <td>0.527476</td>\n",
       "      <td>...</td>\n",
       "      <td>-0.617763</td>\n",
       "      <td>-0.352455</td>\n",
       "      <td>0.659441</td>\n",
       "      <td>0.993020</td>\n",
       "      <td>1.213568</td>\n",
       "      <td>-1.072097</td>\n",
       "      <td>0.072930</td>\n",
       "      <td>-0.860541</td>\n",
       "      <td>0.946923</td>\n",
       "      <td>-0.103162</td>\n",
       "    </tr>\n",
       "    <tr>\n",
       "      <th>3</th>\n",
       "      <td>-0.658179</td>\n",
       "      <td>-2.764515</td>\n",
       "      <td>3.199963</td>\n",
       "      <td>-2.133913</td>\n",
       "      <td>-2.893825</td>\n",
       "      <td>-1.479581</td>\n",
       "      <td>-1.034456</td>\n",
       "      <td>-1.400831</td>\n",
       "      <td>0.470157</td>\n",
       "      <td>0.414517</td>\n",
       "      <td>...</td>\n",
       "      <td>-2.509750</td>\n",
       "      <td>-1.317075</td>\n",
       "      <td>-0.356513</td>\n",
       "      <td>-1.075197</td>\n",
       "      <td>-2.436289</td>\n",
       "      <td>3.127350</td>\n",
       "      <td>0.275835</td>\n",
       "      <td>-6.731395</td>\n",
       "      <td>-0.982679</td>\n",
       "      <td>1.300337</td>\n",
       "    </tr>\n",
       "  </tbody>\n",
       "</table>\n",
       "<p>4 rows × 97 columns</p>\n",
       "</div>"
      ],
      "text/plain": [
       "         0         1         2         3         4         5         6   \\\n",
       "0 -0.658179  0.328423 -0.332153  0.491673 -2.799959  1.193440  1.085546   \n",
       "1 -0.658179 -0.416517 -1.075250  0.950713 -1.148041  0.077568 -1.317391   \n",
       "2  0.323196 -0.561583 -0.458045  0.256888  0.739241 -0.225580  2.889338   \n",
       "3 -0.658179 -2.764515  3.199963 -2.133913 -2.893825 -1.479581 -1.034456   \n",
       "\n",
       "         7         8         9   ...        87        88        89        90  \\\n",
       "0  0.822969  1.430383  1.271834  ...  0.413405 -3.118626 -3.492036 -3.126400   \n",
       "1 -0.639740  0.200099  0.644896  ... -0.520719 -0.977143  0.916899  0.442263   \n",
       "2  1.274836 -1.288954  0.527476  ... -0.617763 -0.352455  0.659441  0.993020   \n",
       "3 -1.400831  0.470157  0.414517  ... -2.509750 -1.317075 -0.356513 -1.075197   \n",
       "\n",
       "         91        92        93        94        95        96  \n",
       "0 -1.960478  4.689017 -0.035587 -8.093503 -0.989204 -2.677274  \n",
       "1  0.880890  0.231405  0.470825  0.094426 -0.271429  1.015032  \n",
       "2  1.213568 -1.072097  0.072930 -0.860541  0.946923 -0.103162  \n",
       "3 -2.436289  3.127350  0.275835 -6.731395 -0.982679  1.300337  \n",
       "\n",
       "[4 rows x 97 columns]"
      ]
     },
     "execution_count": 106,
     "metadata": {},
     "output_type": "execute_result"
    }
   ],
   "source": [
    "new_pl_std"
   ]
  },
  {
   "cell_type": "code",
   "execution_count": 116,
   "id": "b1e7c730",
   "metadata": {},
   "outputs": [
    {
     "data": {
      "text/plain": [
       "<AxesSubplot:>"
      ]
     },
     "execution_count": 116,
     "metadata": {},
     "output_type": "execute_result"
    },
    {
     "data": {
      "image/png": "[encoded data removed]",
      "text/plain": [
       "<Figure size 432x288 with 1 Axes>"
      ]
     },
     "metadata": {
      "needs_background": "light"
     },
     "output_type": "display_data"
    }
   ],
   "source": [
    "new_pl_std.iloc[0, :].hist()"
   ]
  },
  {
   "cell_type": "code",
   "execution_count": 117,
   "id": "e3c831d1",
   "metadata": {},
   "outputs": [
    {
     "data": {
      "text/plain": [
       "<AxesSubplot:>"
      ]
     },
     "execution_count": 117,
     "metadata": {},
     "output_type": "execute_result"
    },
    {
     "data": {
      "image/png": "[encoded data removed]",
      "text/plain": [
       "<Figure size 432x288 with 1 Axes>"
      ]
     },
     "metadata": {
      "needs_background": "light"
     },
     "output_type": "display_data"
    }
   ],
   "source": [
    "new_pl_std.iloc[1, :].hist()"
   ]
  },
  {
   "cell_type": "code",
   "execution_count": 118,
   "id": "740c992d",
   "metadata": {},
   "outputs": [
    {
     "data": {
      "text/plain": [
       "<AxesSubplot:>"
      ]
     },
     "execution_count": 118,
     "metadata": {},
     "output_type": "execute_result"
    },
    {
     "data": {
      "image/png": "[encoded data removed]",
      "text/plain": [
       "<Figure size 432x288 with 1 Axes>"
      ]
     },
     "metadata": {
      "needs_background": "light"
     },
     "output_type": "display_data"
    }
   ],
   "source": [
    "new_pl_std.iloc[2, :].hist()"
   ]
  },
  {
   "cell_type": "code",
   "execution_count": 119,
   "id": "07cd7734",
   "metadata": {},
   "outputs": [
    {
     "data": {
      "text/plain": [
       "<AxesSubplot:>"
      ]
     },
     "execution_count": 119,
     "metadata": {},
     "output_type": "execute_result"
    },
    {
     "data": {
      "image/png": "[encoded data removed]",
      "text/plain": [
       "<Figure size 432x288 with 1 Axes>"
      ]
     },
     "metadata": {
      "needs_background": "light"
     },
     "output_type": "display_data"
    }
   ],
   "source": [
    "new_pl_std.iloc[3, :].hist()"
   ]
  },
  {
   "cell_type": "code",
   "execution_count": null,
   "id": "49482ea7",
   "metadata": {},
   "outputs": [],
   "source": []
  }
 ],
 "metadata": {
  "kernelspec": {
   "display_name": "Python 3 (ipykernel)",
   "language": "python",
   "name": "python3"
  },
  "language_info": {
   "codemirror_mode": {
    "name": "ipython",
    "version": 3
   },
   "file_extension": ".py",
   "mimetype": "text/x-python",
   "name": "python",
   "nbconvert_exporter": "python",
   "pygments_lexer": "ipython3",
   "version": "3.10.4"
  }
 },
 "nbformat": 4,
 "nbformat_minor": 5
}
