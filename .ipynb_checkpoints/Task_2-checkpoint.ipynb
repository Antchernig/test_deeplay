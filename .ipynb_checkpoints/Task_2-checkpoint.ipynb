{
 "cells": [
  {
   "cell_type": "code",
   "execution_count": 312,
   "id": "018b0793",
   "metadata": {},
   "outputs": [],
   "source": [
    "import pandas as pd\n",
    "import numpy as np\n",
    "import matplotlib.pyplot as plt\n",
    "from collections import Counter\n",
    "\n",
    "from sklearn.decomposition import PCA\n",
    "from sklearn.preprocessing import StandardScaler\n",
    "from sklearn.cluster import KMeans, AgglomerativeClustering, DBSCAN, MiniBatchKMeans\n",
    "from sklearn.metrics import silhouette_score"
   ]
  },
  {
   "cell_type": "code",
   "execution_count": 315,
   "id": "163b6bbb",
   "metadata": {},
   "outputs": [],
   "source": [
    "data = pd.read_excel('Testovoe_data.xlsx', sheet_name=2)"
   ]
  },
  {
   "cell_type": "code",
   "execution_count": 316,
   "id": "c44e254c",
   "metadata": {},
   "outputs": [
    {
     "data": {
      "text/html": [
       "<div>\n",
       "<style scoped>\n",
       "    .dataframe tbody tr th:only-of-type {\n",
       "        vertical-align: middle;\n",
       "    }\n",
       "\n",
       "    .dataframe tbody tr th {\n",
       "        vertical-align: top;\n",
       "    }\n",
       "\n",
       "    .dataframe thead th {\n",
       "        text-align: right;\n",
       "    }\n",
       "</style>\n",
       "<table border=\"1\" class=\"dataframe\">\n",
       "  <thead>\n",
       "    <tr style=\"text-align: right;\">\n",
       "      <th></th>\n",
       "      <th>player</th>\n",
       "      <th>stat1</th>\n",
       "      <th>stat2</th>\n",
       "      <th>stat3</th>\n",
       "      <th>stat4</th>\n",
       "      <th>stat5</th>\n",
       "      <th>stat6</th>\n",
       "      <th>stat7</th>\n",
       "      <th>stat8</th>\n",
       "      <th>stat9</th>\n",
       "      <th>...</th>\n",
       "      <th>stat118</th>\n",
       "      <th>stat119</th>\n",
       "      <th>stat120</th>\n",
       "      <th>stat121</th>\n",
       "      <th>stat122</th>\n",
       "      <th>stat123</th>\n",
       "      <th>stat124</th>\n",
       "      <th>stat125</th>\n",
       "      <th>stat126</th>\n",
       "      <th>stat127</th>\n",
       "    </tr>\n",
       "  </thead>\n",
       "  <tbody>\n",
       "    <tr>\n",
       "      <th>0</th>\n",
       "      <td>player1</td>\n",
       "      <td>0.000057</td>\n",
       "      <td>0.463585</td>\n",
       "      <td>NaN</td>\n",
       "      <td>0.269454</td>\n",
       "      <td>0.080972</td>\n",
       "      <td>NaN</td>\n",
       "      <td>0.480818</td>\n",
       "      <td>NaN</td>\n",
       "      <td>0.058824</td>\n",
       "      <td>...</td>\n",
       "      <td>0.433083</td>\n",
       "      <td>0.189568</td>\n",
       "      <td>0.393393</td>\n",
       "      <td>0.295057</td>\n",
       "      <td>0.251447</td>\n",
       "      <td>0.217143</td>\n",
       "      <td>NaN</td>\n",
       "      <td>0.287408</td>\n",
       "      <td>NaN</td>\n",
       "      <td>NaN</td>\n",
       "    </tr>\n",
       "    <tr>\n",
       "      <th>1</th>\n",
       "      <td>player2</td>\n",
       "      <td>0.000258</td>\n",
       "      <td>0.451477</td>\n",
       "      <td>NaN</td>\n",
       "      <td>0.280188</td>\n",
       "      <td>0.053763</td>\n",
       "      <td>NaN</td>\n",
       "      <td>0.449686</td>\n",
       "      <td>NaN</td>\n",
       "      <td>0.060870</td>\n",
       "      <td>...</td>\n",
       "      <td>0.419728</td>\n",
       "      <td>0.156165</td>\n",
       "      <td>0.403475</td>\n",
       "      <td>0.232939</td>\n",
       "      <td>0.149836</td>\n",
       "      <td>0.136318</td>\n",
       "      <td>NaN</td>\n",
       "      <td>0.242417</td>\n",
       "      <td>NaN</td>\n",
       "      <td>NaN</td>\n",
       "    </tr>\n",
       "    <tr>\n",
       "      <th>2</th>\n",
       "      <td>player3</td>\n",
       "      <td>0.000000</td>\n",
       "      <td>0.394161</td>\n",
       "      <td>NaN</td>\n",
       "      <td>0.259720</td>\n",
       "      <td>0.093137</td>\n",
       "      <td>NaN</td>\n",
       "      <td>0.498138</td>\n",
       "      <td>NaN</td>\n",
       "      <td>0.060150</td>\n",
       "      <td>...</td>\n",
       "      <td>0.424702</td>\n",
       "      <td>0.178597</td>\n",
       "      <td>0.374286</td>\n",
       "      <td>0.263825</td>\n",
       "      <td>0.258818</td>\n",
       "      <td>0.264657</td>\n",
       "      <td>NaN</td>\n",
       "      <td>0.264686</td>\n",
       "      <td>NaN</td>\n",
       "      <td>NaN</td>\n",
       "    </tr>\n",
       "    <tr>\n",
       "      <th>3</th>\n",
       "      <td>player4</td>\n",
       "      <td>0.000000</td>\n",
       "      <td>0.595941</td>\n",
       "      <td>NaN</td>\n",
       "      <td>0.285093</td>\n",
       "      <td>0.106122</td>\n",
       "      <td>NaN</td>\n",
       "      <td>0.409406</td>\n",
       "      <td>NaN</td>\n",
       "      <td>0.094595</td>\n",
       "      <td>...</td>\n",
       "      <td>0.405199</td>\n",
       "      <td>0.223855</td>\n",
       "      <td>0.410256</td>\n",
       "      <td>0.334586</td>\n",
       "      <td>0.270078</td>\n",
       "      <td>0.002787</td>\n",
       "      <td>NaN</td>\n",
       "      <td>0.250378</td>\n",
       "      <td>NaN</td>\n",
       "      <td>NaN</td>\n",
       "    </tr>\n",
       "    <tr>\n",
       "      <th>4</th>\n",
       "      <td>player5</td>\n",
       "      <td>0.000053</td>\n",
       "      <td>0.474469</td>\n",
       "      <td>NaN</td>\n",
       "      <td>0.237012</td>\n",
       "      <td>0.069284</td>\n",
       "      <td>NaN</td>\n",
       "      <td>0.464455</td>\n",
       "      <td>NaN</td>\n",
       "      <td>0.069588</td>\n",
       "      <td>...</td>\n",
       "      <td>0.447303</td>\n",
       "      <td>0.200082</td>\n",
       "      <td>0.364122</td>\n",
       "      <td>0.272970</td>\n",
       "      <td>0.307973</td>\n",
       "      <td>0.010024</td>\n",
       "      <td>NaN</td>\n",
       "      <td>0.284349</td>\n",
       "      <td>NaN</td>\n",
       "      <td>NaN</td>\n",
       "    </tr>\n",
       "    <tr>\n",
       "      <th>...</th>\n",
       "      <td>...</td>\n",
       "      <td>...</td>\n",
       "      <td>...</td>\n",
       "      <td>...</td>\n",
       "      <td>...</td>\n",
       "      <td>...</td>\n",
       "      <td>...</td>\n",
       "      <td>...</td>\n",
       "      <td>...</td>\n",
       "      <td>...</td>\n",
       "      <td>...</td>\n",
       "      <td>...</td>\n",
       "      <td>...</td>\n",
       "      <td>...</td>\n",
       "      <td>...</td>\n",
       "      <td>...</td>\n",
       "      <td>...</td>\n",
       "      <td>...</td>\n",
       "      <td>...</td>\n",
       "      <td>...</td>\n",
       "      <td>...</td>\n",
       "    </tr>\n",
       "    <tr>\n",
       "      <th>542</th>\n",
       "      <td>player543</td>\n",
       "      <td>0.000189</td>\n",
       "      <td>0.534304</td>\n",
       "      <td>NaN</td>\n",
       "      <td>0.303557</td>\n",
       "      <td>0.075136</td>\n",
       "      <td>NaN</td>\n",
       "      <td>0.627917</td>\n",
       "      <td>NaN</td>\n",
       "      <td>0.068460</td>\n",
       "      <td>...</td>\n",
       "      <td>0.395435</td>\n",
       "      <td>0.186000</td>\n",
       "      <td>0.436798</td>\n",
       "      <td>0.266040</td>\n",
       "      <td>0.243204</td>\n",
       "      <td>0.001825</td>\n",
       "      <td>NaN</td>\n",
       "      <td>0.235458</td>\n",
       "      <td>NaN</td>\n",
       "      <td>NaN</td>\n",
       "    </tr>\n",
       "    <tr>\n",
       "      <th>543</th>\n",
       "      <td>player544</td>\n",
       "      <td>0.000308</td>\n",
       "      <td>0.458941</td>\n",
       "      <td>NaN</td>\n",
       "      <td>0.219156</td>\n",
       "      <td>0.051532</td>\n",
       "      <td>NaN</td>\n",
       "      <td>0.449095</td>\n",
       "      <td>NaN</td>\n",
       "      <td>0.034483</td>\n",
       "      <td>...</td>\n",
       "      <td>0.427721</td>\n",
       "      <td>0.168777</td>\n",
       "      <td>0.506645</td>\n",
       "      <td>0.230414</td>\n",
       "      <td>0.209977</td>\n",
       "      <td>0.372106</td>\n",
       "      <td>NaN</td>\n",
       "      <td>0.278913</td>\n",
       "      <td>NaN</td>\n",
       "      <td>NaN</td>\n",
       "    </tr>\n",
       "    <tr>\n",
       "      <th>544</th>\n",
       "      <td>player545</td>\n",
       "      <td>0.000062</td>\n",
       "      <td>0.605558</td>\n",
       "      <td>NaN</td>\n",
       "      <td>0.286586</td>\n",
       "      <td>0.049505</td>\n",
       "      <td>NaN</td>\n",
       "      <td>0.417582</td>\n",
       "      <td>NaN</td>\n",
       "      <td>0.022222</td>\n",
       "      <td>...</td>\n",
       "      <td>0.358848</td>\n",
       "      <td>0.188563</td>\n",
       "      <td>0.465753</td>\n",
       "      <td>0.257146</td>\n",
       "      <td>0.257113</td>\n",
       "      <td>0.008716</td>\n",
       "      <td>NaN</td>\n",
       "      <td>0.221611</td>\n",
       "      <td>NaN</td>\n",
       "      <td>NaN</td>\n",
       "    </tr>\n",
       "    <tr>\n",
       "      <th>545</th>\n",
       "      <td>player546</td>\n",
       "      <td>0.000000</td>\n",
       "      <td>0.437931</td>\n",
       "      <td>NaN</td>\n",
       "      <td>0.251155</td>\n",
       "      <td>0.049327</td>\n",
       "      <td>NaN</td>\n",
       "      <td>0.672457</td>\n",
       "      <td>NaN</td>\n",
       "      <td>0.035714</td>\n",
       "      <td>...</td>\n",
       "      <td>0.414645</td>\n",
       "      <td>0.202812</td>\n",
       "      <td>0.293333</td>\n",
       "      <td>0.338469</td>\n",
       "      <td>0.232558</td>\n",
       "      <td>0.003523</td>\n",
       "      <td>NaN</td>\n",
       "      <td>0.224957</td>\n",
       "      <td>NaN</td>\n",
       "      <td>NaN</td>\n",
       "    </tr>\n",
       "    <tr>\n",
       "      <th>546</th>\n",
       "      <td>player547</td>\n",
       "      <td>0.000000</td>\n",
       "      <td>0.469812</td>\n",
       "      <td>NaN</td>\n",
       "      <td>0.254010</td>\n",
       "      <td>0.065061</td>\n",
       "      <td>NaN</td>\n",
       "      <td>0.481268</td>\n",
       "      <td>NaN</td>\n",
       "      <td>0.062157</td>\n",
       "      <td>...</td>\n",
       "      <td>0.385593</td>\n",
       "      <td>0.174425</td>\n",
       "      <td>0.356493</td>\n",
       "      <td>0.253706</td>\n",
       "      <td>0.224376</td>\n",
       "      <td>0.185434</td>\n",
       "      <td>NaN</td>\n",
       "      <td>0.240711</td>\n",
       "      <td>NaN</td>\n",
       "      <td>NaN</td>\n",
       "    </tr>\n",
       "  </tbody>\n",
       "</table>\n",
       "<p>547 rows × 128 columns</p>\n",
       "</div>"
      ],
      "text/plain": [
       "        player     stat1     stat2  stat3     stat4     stat5  stat6  \\\n",
       "0      player1  0.000057  0.463585    NaN  0.269454  0.080972    NaN   \n",
       "1      player2  0.000258  0.451477    NaN  0.280188  0.053763    NaN   \n",
       "2      player3  0.000000  0.394161    NaN  0.259720  0.093137    NaN   \n",
       "3      player4  0.000000  0.595941    NaN  0.285093  0.106122    NaN   \n",
       "4      player5  0.000053  0.474469    NaN  0.237012  0.069284    NaN   \n",
       "..         ...       ...       ...    ...       ...       ...    ...   \n",
       "542  player543  0.000189  0.534304    NaN  0.303557  0.075136    NaN   \n",
       "543  player544  0.000308  0.458941    NaN  0.219156  0.051532    NaN   \n",
       "544  player545  0.000062  0.605558    NaN  0.286586  0.049505    NaN   \n",
       "545  player546  0.000000  0.437931    NaN  0.251155  0.049327    NaN   \n",
       "546  player547  0.000000  0.469812    NaN  0.254010  0.065061    NaN   \n",
       "\n",
       "        stat7  stat8     stat9  ...   stat118   stat119   stat120   stat121  \\\n",
       "0    0.480818    NaN  0.058824  ...  0.433083  0.189568  0.393393  0.295057   \n",
       "1    0.449686    NaN  0.060870  ...  0.419728  0.156165  0.403475  0.232939   \n",
       "2    0.498138    NaN  0.060150  ...  0.424702  0.178597  0.374286  0.263825   \n",
       "3    0.409406    NaN  0.094595  ...  0.405199  0.223855  0.410256  0.334586   \n",
       "4    0.464455    NaN  0.069588  ...  0.447303  0.200082  0.364122  0.272970   \n",
       "..        ...    ...       ...  ...       ...       ...       ...       ...   \n",
       "542  0.627917    NaN  0.068460  ...  0.395435  0.186000  0.436798  0.266040   \n",
       "543  0.449095    NaN  0.034483  ...  0.427721  0.168777  0.506645  0.230414   \n",
       "544  0.417582    NaN  0.022222  ...  0.358848  0.188563  0.465753  0.257146   \n",
       "545  0.672457    NaN  0.035714  ...  0.414645  0.202812  0.293333  0.338469   \n",
       "546  0.481268    NaN  0.062157  ...  0.385593  0.174425  0.356493  0.253706   \n",
       "\n",
       "      stat122   stat123  stat124   stat125  stat126  stat127  \n",
       "0    0.251447  0.217143      NaN  0.287408      NaN      NaN  \n",
       "1    0.149836  0.136318      NaN  0.242417      NaN      NaN  \n",
       "2    0.258818  0.264657      NaN  0.264686      NaN      NaN  \n",
       "3    0.270078  0.002787      NaN  0.250378      NaN      NaN  \n",
       "4    0.307973  0.010024      NaN  0.284349      NaN      NaN  \n",
       "..        ...       ...      ...       ...      ...      ...  \n",
       "542  0.243204  0.001825      NaN  0.235458      NaN      NaN  \n",
       "543  0.209977  0.372106      NaN  0.278913      NaN      NaN  \n",
       "544  0.257113  0.008716      NaN  0.221611      NaN      NaN  \n",
       "545  0.232558  0.003523      NaN  0.224957      NaN      NaN  \n",
       "546  0.224376  0.185434      NaN  0.240711      NaN      NaN  \n",
       "\n",
       "[547 rows x 128 columns]"
      ]
     },
     "execution_count": 316,
     "metadata": {},
     "output_type": "execute_result"
    }
   ],
   "source": [
    "data"
   ]
  },
  {
   "cell_type": "code",
   "execution_count": 30,
   "id": "eea12e20",
   "metadata": {},
   "outputs": [
    {
     "data": {
      "text/plain": [
       "547"
      ]
     },
     "execution_count": 30,
     "metadata": {},
     "output_type": "execute_result"
    }
   ],
   "source": [
    "data.iloc[:, 1].count()"
   ]
  },
  {
   "cell_type": "code",
   "execution_count": 16,
   "id": "ce2b53df",
   "metadata": {},
   "outputs": [
    {
     "data": {
      "text/plain": [
       "128"
      ]
     },
     "execution_count": 16,
     "metadata": {},
     "output_type": "execute_result"
    }
   ],
   "source": [
    "data.shape[-1]"
   ]
  },
  {
   "cell_type": "code",
   "execution_count": 317,
   "id": "61aae525",
   "metadata": {},
   "outputs": [
    {
     "name": "stdout",
     "output_type": "stream",
     "text": [
      "stat3 must be droped\n",
      "stat6 must be droped\n",
      "stat8 must be droped\n",
      "stat10 must be droped\n",
      "stat18 must be droped\n",
      "stat21 must be droped\n",
      "stat26 must be droped\n",
      "stat28 must be droped\n",
      "stat29 must be droped\n",
      "stat31 must be droped\n",
      "stat34 must be droped\n",
      "stat52 must be droped\n",
      "stat67 must be droped\n",
      "stat83 must be droped\n",
      "stat84 must be droped\n",
      "stat85 must be droped\n",
      "stat86 must be droped\n",
      "stat91 must be droped\n",
      "stat101 must be droped\n",
      "stat105 must be droped\n",
      "stat108 must be droped\n",
      "stat112 must be droped\n",
      "stat114 must be droped\n",
      "stat116 must be droped\n",
      "stat124 must be droped\n",
      "stat126 must be droped\n",
      "stat127 must be droped\n",
      "Done!\n"
     ]
    }
   ],
   "source": [
    "columns_to_drop = []\n",
    "for i in range(1, data.shape[-1]):\n",
    "    if data.iloc[:, i].count() == 0:\n",
    "        columns_to_drop.append(data.columns[i])\n",
    "        print(f'{data.columns[i]} must be droped')\n",
    "print('Done!')"
   ]
  },
  {
   "cell_type": "code",
   "execution_count": 30,
   "id": "70fd68af",
   "metadata": {},
   "outputs": [
    {
     "data": {
      "text/plain": [
       "27"
      ]
     },
     "execution_count": 30,
     "metadata": {},
     "output_type": "execute_result"
    }
   ],
   "source": [
    "len(columns_to_drop)"
   ]
  },
  {
   "cell_type": "code",
   "execution_count": 318,
   "id": "ae2c967a",
   "metadata": {},
   "outputs": [],
   "source": [
    "data = data.drop(columns_to_drop, axis=1)"
   ]
  },
  {
   "cell_type": "code",
   "execution_count": 6,
   "id": "c63ebce8",
   "metadata": {},
   "outputs": [
    {
     "data": {
      "text/html": [
       "<div>\n",
       "<style scoped>\n",
       "    .dataframe tbody tr th:only-of-type {\n",
       "        vertical-align: middle;\n",
       "    }\n",
       "\n",
       "    .dataframe tbody tr th {\n",
       "        vertical-align: top;\n",
       "    }\n",
       "\n",
       "    .dataframe thead th {\n",
       "        text-align: right;\n",
       "    }\n",
       "</style>\n",
       "<table border=\"1\" class=\"dataframe\">\n",
       "  <thead>\n",
       "    <tr style=\"text-align: right;\">\n",
       "      <th></th>\n",
       "      <th>player</th>\n",
       "      <th>stat1</th>\n",
       "      <th>stat2</th>\n",
       "      <th>stat4</th>\n",
       "      <th>stat5</th>\n",
       "      <th>stat7</th>\n",
       "      <th>stat9</th>\n",
       "      <th>stat11</th>\n",
       "      <th>stat12</th>\n",
       "      <th>stat13</th>\n",
       "      <th>...</th>\n",
       "      <th>stat113</th>\n",
       "      <th>stat115</th>\n",
       "      <th>stat117</th>\n",
       "      <th>stat118</th>\n",
       "      <th>stat119</th>\n",
       "      <th>stat120</th>\n",
       "      <th>stat121</th>\n",
       "      <th>stat122</th>\n",
       "      <th>stat123</th>\n",
       "      <th>stat125</th>\n",
       "    </tr>\n",
       "  </thead>\n",
       "  <tbody>\n",
       "    <tr>\n",
       "      <th>0</th>\n",
       "      <td>player1</td>\n",
       "      <td>0.000057</td>\n",
       "      <td>0.463585</td>\n",
       "      <td>0.269454</td>\n",
       "      <td>0.080972</td>\n",
       "      <td>0.480818</td>\n",
       "      <td>0.058824</td>\n",
       "      <td>0.428506</td>\n",
       "      <td>0.098841</td>\n",
       "      <td>0.117632</td>\n",
       "      <td>...</td>\n",
       "      <td>0.461219</td>\n",
       "      <td>0.464881</td>\n",
       "      <td>0.304522</td>\n",
       "      <td>0.433083</td>\n",
       "      <td>0.189568</td>\n",
       "      <td>0.393393</td>\n",
       "      <td>0.295057</td>\n",
       "      <td>0.251447</td>\n",
       "      <td>0.217143</td>\n",
       "      <td>0.287408</td>\n",
       "    </tr>\n",
       "    <tr>\n",
       "      <th>1</th>\n",
       "      <td>player2</td>\n",
       "      <td>0.000258</td>\n",
       "      <td>0.451477</td>\n",
       "      <td>0.280188</td>\n",
       "      <td>0.053763</td>\n",
       "      <td>0.449686</td>\n",
       "      <td>0.060870</td>\n",
       "      <td>0.557598</td>\n",
       "      <td>0.084276</td>\n",
       "      <td>0.051277</td>\n",
       "      <td>...</td>\n",
       "      <td>0.449231</td>\n",
       "      <td>0.447159</td>\n",
       "      <td>0.282449</td>\n",
       "      <td>0.419728</td>\n",
       "      <td>0.156165</td>\n",
       "      <td>0.403475</td>\n",
       "      <td>0.232939</td>\n",
       "      <td>0.149836</td>\n",
       "      <td>0.136318</td>\n",
       "      <td>0.242417</td>\n",
       "    </tr>\n",
       "    <tr>\n",
       "      <th>2</th>\n",
       "      <td>player3</td>\n",
       "      <td>0.000000</td>\n",
       "      <td>0.394161</td>\n",
       "      <td>0.259720</td>\n",
       "      <td>0.093137</td>\n",
       "      <td>0.498138</td>\n",
       "      <td>0.060150</td>\n",
       "      <td>0.553648</td>\n",
       "      <td>0.056404</td>\n",
       "      <td>0.115620</td>\n",
       "      <td>...</td>\n",
       "      <td>0.395091</td>\n",
       "      <td>0.458876</td>\n",
       "      <td>0.290208</td>\n",
       "      <td>0.424702</td>\n",
       "      <td>0.178597</td>\n",
       "      <td>0.374286</td>\n",
       "      <td>0.263825</td>\n",
       "      <td>0.258818</td>\n",
       "      <td>0.264657</td>\n",
       "      <td>0.264686</td>\n",
       "    </tr>\n",
       "    <tr>\n",
       "      <th>3</th>\n",
       "      <td>player4</td>\n",
       "      <td>0.000000</td>\n",
       "      <td>0.595941</td>\n",
       "      <td>0.285093</td>\n",
       "      <td>0.106122</td>\n",
       "      <td>0.409406</td>\n",
       "      <td>0.094595</td>\n",
       "      <td>0.503968</td>\n",
       "      <td>0.044787</td>\n",
       "      <td>0.123180</td>\n",
       "      <td>...</td>\n",
       "      <td>0.589512</td>\n",
       "      <td>0.421272</td>\n",
       "      <td>0.280153</td>\n",
       "      <td>0.405199</td>\n",
       "      <td>0.223855</td>\n",
       "      <td>0.410256</td>\n",
       "      <td>0.334586</td>\n",
       "      <td>0.270078</td>\n",
       "      <td>0.002787</td>\n",
       "      <td>0.250378</td>\n",
       "    </tr>\n",
       "    <tr>\n",
       "      <th>4</th>\n",
       "      <td>player5</td>\n",
       "      <td>0.000053</td>\n",
       "      <td>0.474469</td>\n",
       "      <td>0.237012</td>\n",
       "      <td>0.069284</td>\n",
       "      <td>0.464455</td>\n",
       "      <td>0.069588</td>\n",
       "      <td>0.584513</td>\n",
       "      <td>0.059305</td>\n",
       "      <td>0.120600</td>\n",
       "      <td>...</td>\n",
       "      <td>0.473045</td>\n",
       "      <td>0.435530</td>\n",
       "      <td>0.307592</td>\n",
       "      <td>0.447303</td>\n",
       "      <td>0.200082</td>\n",
       "      <td>0.364122</td>\n",
       "      <td>0.272970</td>\n",
       "      <td>0.307973</td>\n",
       "      <td>0.010024</td>\n",
       "      <td>0.284349</td>\n",
       "    </tr>\n",
       "    <tr>\n",
       "      <th>...</th>\n",
       "      <td>...</td>\n",
       "      <td>...</td>\n",
       "      <td>...</td>\n",
       "      <td>...</td>\n",
       "      <td>...</td>\n",
       "      <td>...</td>\n",
       "      <td>...</td>\n",
       "      <td>...</td>\n",
       "      <td>...</td>\n",
       "      <td>...</td>\n",
       "      <td>...</td>\n",
       "      <td>...</td>\n",
       "      <td>...</td>\n",
       "      <td>...</td>\n",
       "      <td>...</td>\n",
       "      <td>...</td>\n",
       "      <td>...</td>\n",
       "      <td>...</td>\n",
       "      <td>...</td>\n",
       "      <td>...</td>\n",
       "      <td>...</td>\n",
       "    </tr>\n",
       "    <tr>\n",
       "      <th>542</th>\n",
       "      <td>player543</td>\n",
       "      <td>0.000189</td>\n",
       "      <td>0.534304</td>\n",
       "      <td>0.303557</td>\n",
       "      <td>0.075136</td>\n",
       "      <td>0.627917</td>\n",
       "      <td>0.068460</td>\n",
       "      <td>0.708891</td>\n",
       "      <td>0.197239</td>\n",
       "      <td>0.084507</td>\n",
       "      <td>...</td>\n",
       "      <td>0.529709</td>\n",
       "      <td>0.499697</td>\n",
       "      <td>0.273874</td>\n",
       "      <td>0.395435</td>\n",
       "      <td>0.186000</td>\n",
       "      <td>0.436798</td>\n",
       "      <td>0.266040</td>\n",
       "      <td>0.243204</td>\n",
       "      <td>0.001825</td>\n",
       "      <td>0.235458</td>\n",
       "    </tr>\n",
       "    <tr>\n",
       "      <th>543</th>\n",
       "      <td>player544</td>\n",
       "      <td>0.000308</td>\n",
       "      <td>0.458941</td>\n",
       "      <td>0.219156</td>\n",
       "      <td>0.051532</td>\n",
       "      <td>0.449095</td>\n",
       "      <td>0.034483</td>\n",
       "      <td>0.497431</td>\n",
       "      <td>0.067077</td>\n",
       "      <td>0.087003</td>\n",
       "      <td>...</td>\n",
       "      <td>0.456048</td>\n",
       "      <td>0.447270</td>\n",
       "      <td>0.316664</td>\n",
       "      <td>0.427721</td>\n",
       "      <td>0.168777</td>\n",
       "      <td>0.506645</td>\n",
       "      <td>0.230414</td>\n",
       "      <td>0.209977</td>\n",
       "      <td>0.372106</td>\n",
       "      <td>0.278913</td>\n",
       "    </tr>\n",
       "    <tr>\n",
       "      <th>544</th>\n",
       "      <td>player545</td>\n",
       "      <td>0.000062</td>\n",
       "      <td>0.605558</td>\n",
       "      <td>0.286586</td>\n",
       "      <td>0.049505</td>\n",
       "      <td>0.417582</td>\n",
       "      <td>0.022222</td>\n",
       "      <td>0.435908</td>\n",
       "      <td>0.039554</td>\n",
       "      <td>0.093642</td>\n",
       "      <td>...</td>\n",
       "      <td>0.600606</td>\n",
       "      <td>0.430091</td>\n",
       "      <td>0.240316</td>\n",
       "      <td>0.358848</td>\n",
       "      <td>0.188563</td>\n",
       "      <td>0.465753</td>\n",
       "      <td>0.257146</td>\n",
       "      <td>0.257113</td>\n",
       "      <td>0.008716</td>\n",
       "      <td>0.221611</td>\n",
       "    </tr>\n",
       "    <tr>\n",
       "      <th>545</th>\n",
       "      <td>player546</td>\n",
       "      <td>0.000000</td>\n",
       "      <td>0.437931</td>\n",
       "      <td>0.251155</td>\n",
       "      <td>0.049327</td>\n",
       "      <td>0.672457</td>\n",
       "      <td>0.035714</td>\n",
       "      <td>0.674585</td>\n",
       "      <td>0.222500</td>\n",
       "      <td>0.099401</td>\n",
       "      <td>...</td>\n",
       "      <td>0.434537</td>\n",
       "      <td>0.505311</td>\n",
       "      <td>0.259435</td>\n",
       "      <td>0.414645</td>\n",
       "      <td>0.202812</td>\n",
       "      <td>0.293333</td>\n",
       "      <td>0.338469</td>\n",
       "      <td>0.232558</td>\n",
       "      <td>0.003523</td>\n",
       "      <td>0.224957</td>\n",
       "    </tr>\n",
       "    <tr>\n",
       "      <th>546</th>\n",
       "      <td>player547</td>\n",
       "      <td>0.000000</td>\n",
       "      <td>0.469812</td>\n",
       "      <td>0.254010</td>\n",
       "      <td>0.065061</td>\n",
       "      <td>0.481268</td>\n",
       "      <td>0.062157</td>\n",
       "      <td>0.611164</td>\n",
       "      <td>0.097786</td>\n",
       "      <td>0.080411</td>\n",
       "      <td>...</td>\n",
       "      <td>0.465883</td>\n",
       "      <td>0.446834</td>\n",
       "      <td>0.264338</td>\n",
       "      <td>0.385593</td>\n",
       "      <td>0.174425</td>\n",
       "      <td>0.356493</td>\n",
       "      <td>0.253706</td>\n",
       "      <td>0.224376</td>\n",
       "      <td>0.185434</td>\n",
       "      <td>0.240711</td>\n",
       "    </tr>\n",
       "  </tbody>\n",
       "</table>\n",
       "<p>547 rows × 101 columns</p>\n",
       "</div>"
      ],
      "text/plain": [
       "        player     stat1     stat2     stat4     stat5     stat7     stat9  \\\n",
       "0      player1  0.000057  0.463585  0.269454  0.080972  0.480818  0.058824   \n",
       "1      player2  0.000258  0.451477  0.280188  0.053763  0.449686  0.060870   \n",
       "2      player3  0.000000  0.394161  0.259720  0.093137  0.498138  0.060150   \n",
       "3      player4  0.000000  0.595941  0.285093  0.106122  0.409406  0.094595   \n",
       "4      player5  0.000053  0.474469  0.237012  0.069284  0.464455  0.069588   \n",
       "..         ...       ...       ...       ...       ...       ...       ...   \n",
       "542  player543  0.000189  0.534304  0.303557  0.075136  0.627917  0.068460   \n",
       "543  player544  0.000308  0.458941  0.219156  0.051532  0.449095  0.034483   \n",
       "544  player545  0.000062  0.605558  0.286586  0.049505  0.417582  0.022222   \n",
       "545  player546  0.000000  0.437931  0.251155  0.049327  0.672457  0.035714   \n",
       "546  player547  0.000000  0.469812  0.254010  0.065061  0.481268  0.062157   \n",
       "\n",
       "       stat11    stat12    stat13  ...   stat113   stat115   stat117  \\\n",
       "0    0.428506  0.098841  0.117632  ...  0.461219  0.464881  0.304522   \n",
       "1    0.557598  0.084276  0.051277  ...  0.449231  0.447159  0.282449   \n",
       "2    0.553648  0.056404  0.115620  ...  0.395091  0.458876  0.290208   \n",
       "3    0.503968  0.044787  0.123180  ...  0.589512  0.421272  0.280153   \n",
       "4    0.584513  0.059305  0.120600  ...  0.473045  0.435530  0.307592   \n",
       "..        ...       ...       ...  ...       ...       ...       ...   \n",
       "542  0.708891  0.197239  0.084507  ...  0.529709  0.499697  0.273874   \n",
       "543  0.497431  0.067077  0.087003  ...  0.456048  0.447270  0.316664   \n",
       "544  0.435908  0.039554  0.093642  ...  0.600606  0.430091  0.240316   \n",
       "545  0.674585  0.222500  0.099401  ...  0.434537  0.505311  0.259435   \n",
       "546  0.611164  0.097786  0.080411  ...  0.465883  0.446834  0.264338   \n",
       "\n",
       "      stat118   stat119   stat120   stat121   stat122   stat123   stat125  \n",
       "0    0.433083  0.189568  0.393393  0.295057  0.251447  0.217143  0.287408  \n",
       "1    0.419728  0.156165  0.403475  0.232939  0.149836  0.136318  0.242417  \n",
       "2    0.424702  0.178597  0.374286  0.263825  0.258818  0.264657  0.264686  \n",
       "3    0.405199  0.223855  0.410256  0.334586  0.270078  0.002787  0.250378  \n",
       "4    0.447303  0.200082  0.364122  0.272970  0.307973  0.010024  0.284349  \n",
       "..        ...       ...       ...       ...       ...       ...       ...  \n",
       "542  0.395435  0.186000  0.436798  0.266040  0.243204  0.001825  0.235458  \n",
       "543  0.427721  0.168777  0.506645  0.230414  0.209977  0.372106  0.278913  \n",
       "544  0.358848  0.188563  0.465753  0.257146  0.257113  0.008716  0.221611  \n",
       "545  0.414645  0.202812  0.293333  0.338469  0.232558  0.003523  0.224957  \n",
       "546  0.385593  0.174425  0.356493  0.253706  0.224376  0.185434  0.240711  \n",
       "\n",
       "[547 rows x 101 columns]"
      ]
     },
     "execution_count": 6,
     "metadata": {},
     "output_type": "execute_result"
    }
   ],
   "source": [
    "data"
   ]
  },
  {
   "cell_type": "code",
   "execution_count": 319,
   "id": "612c781a",
   "metadata": {},
   "outputs": [
    {
     "name": "stdout",
     "output_type": "stream",
     "text": [
      "stat9: 545 values\n",
      "stat53: 177 values\n",
      "stat62: 4 values\n",
      "stat80: 546 values\n",
      "stat92: 5 values\n",
      "stat106: 546 values\n"
     ]
    }
   ],
   "source": [
    "for i in range(1, data.shape[-1]):\n",
    "    if data.iloc[:, i].count() < len(data):\n",
    "        print(f'{data.columns[i]}: {data.iloc[:, i].count()} values')"
   ]
  },
  {
   "cell_type": "code",
   "execution_count": 35,
   "id": "dbd731bb",
   "metadata": {},
   "outputs": [
    {
     "data": {
      "text/plain": [
       "array([nan,  0.])"
      ]
     },
     "execution_count": 35,
     "metadata": {},
     "output_type": "execute_result"
    }
   ],
   "source": [
    "data['stat62'].unique()"
   ]
  },
  {
   "cell_type": "code",
   "execution_count": 36,
   "id": "d4e498ab",
   "metadata": {},
   "outputs": [
    {
     "data": {
      "text/plain": [
       "array([nan,  0.,  1.])"
      ]
     },
     "execution_count": 36,
     "metadata": {},
     "output_type": "execute_result"
    }
   ],
   "source": [
    "data['stat92'].unique()"
   ]
  },
  {
   "cell_type": "code",
   "execution_count": 320,
   "id": "a447eb73",
   "metadata": {},
   "outputs": [],
   "source": [
    "data = data.drop(['stat62', 'stat92'], axis=1)"
   ]
  },
  {
   "cell_type": "code",
   "execution_count": 321,
   "id": "cccab772",
   "metadata": {},
   "outputs": [
    {
     "name": "stdout",
     "output_type": "stream",
     "text": [
      "stat9: 545 values\n",
      "stat53: 177 values\n",
      "stat80: 546 values\n",
      "stat106: 546 values\n"
     ]
    }
   ],
   "source": [
    "for i in range(1, data.shape[-1]):\n",
    "    if data.iloc[:, i].count() < len(data):\n",
    "        print(f'{data.columns[i]}: {data.iloc[:, i].count()} values')"
   ]
  },
  {
   "cell_type": "code",
   "execution_count": 322,
   "id": "00e6f770",
   "metadata": {},
   "outputs": [],
   "source": [
    "data['stat9'] = data['stat9'].fillna(data['stat9'].mean())\n",
    "data['stat80'] = data['stat80'].fillna(data['stat80'].mean())\n",
    "data['stat106'] = data['stat106'].fillna(data['stat106'].mean())"
   ]
  },
  {
   "cell_type": "code",
   "execution_count": 323,
   "id": "23cb7550",
   "metadata": {},
   "outputs": [
    {
     "name": "stdout",
     "output_type": "stream",
     "text": [
      "stat53: 177 values\n"
     ]
    }
   ],
   "source": [
    "for i in range(1, data.shape[-1]):\n",
    "    if data.iloc[:, i].count() < len(data):\n",
    "        print(f'{data.columns[i]}: {data.iloc[:, i].count()} values')"
   ]
  },
  {
   "cell_type": "code",
   "execution_count": 324,
   "id": "91114983",
   "metadata": {},
   "outputs": [],
   "source": [
    "data = data.drop(['stat53'], axis=1)"
   ]
  },
  {
   "cell_type": "code",
   "execution_count": null,
   "id": "746e1125",
   "metadata": {},
   "outputs": [],
   "source": []
  },
  {
   "cell_type": "code",
   "execution_count": 58,
   "id": "77f28be7",
   "metadata": {},
   "outputs": [
    {
     "data": {
      "text/plain": [
       "True"
      ]
     },
     "execution_count": 58,
     "metadata": {},
     "output_type": "execute_result"
    }
   ],
   "source": [
    "data['stat1'].dtype == 'float64'"
   ]
  },
  {
   "cell_type": "code",
   "execution_count": 60,
   "id": "9e5937e1",
   "metadata": {},
   "outputs": [
    {
     "name": "stdout",
     "output_type": "stream",
     "text": [
      "Done!\n"
     ]
    }
   ],
   "source": [
    "for i in range(1, data.shape[-1]):\n",
    "    if data[data.columns[i]].dtype != 'float64':\n",
    "        print(f'{data.columns[i]} is {data[data.columns[i]].dtype}')\n",
    "\n",
    "print('Done!')"
   ]
  },
  {
   "cell_type": "code",
   "execution_count": 61,
   "id": "8c552951",
   "metadata": {},
   "outputs": [
    {
     "data": {
      "text/plain": [
       "(547, 99)"
      ]
     },
     "execution_count": 61,
     "metadata": {},
     "output_type": "execute_result"
    }
   ],
   "source": [
    "data.shape"
   ]
  },
  {
   "cell_type": "code",
   "execution_count": 64,
   "id": "888a3084",
   "metadata": {},
   "outputs": [
    {
     "data": {
      "text/plain": [
       "array([False])"
      ]
     },
     "execution_count": 64,
     "metadata": {},
     "output_type": "execute_result"
    }
   ],
   "source": [
    "data.duplicated().unique()"
   ]
  },
  {
   "cell_type": "code",
   "execution_count": 65,
   "id": "6a7ef1eb",
   "metadata": {},
   "outputs": [
    {
     "data": {
      "text/html": [
       "<div>\n",
       "<style scoped>\n",
       "    .dataframe tbody tr th:only-of-type {\n",
       "        vertical-align: middle;\n",
       "    }\n",
       "\n",
       "    .dataframe tbody tr th {\n",
       "        vertical-align: top;\n",
       "    }\n",
       "\n",
       "    .dataframe thead th {\n",
       "        text-align: right;\n",
       "    }\n",
       "</style>\n",
       "<table border=\"1\" class=\"dataframe\">\n",
       "  <thead>\n",
       "    <tr style=\"text-align: right;\">\n",
       "      <th></th>\n",
       "      <th>player</th>\n",
       "      <th>stat1</th>\n",
       "      <th>stat2</th>\n",
       "      <th>stat4</th>\n",
       "      <th>stat5</th>\n",
       "      <th>stat7</th>\n",
       "      <th>stat9</th>\n",
       "      <th>stat11</th>\n",
       "      <th>stat12</th>\n",
       "      <th>stat13</th>\n",
       "      <th>...</th>\n",
       "      <th>stat113</th>\n",
       "      <th>stat115</th>\n",
       "      <th>stat117</th>\n",
       "      <th>stat118</th>\n",
       "      <th>stat119</th>\n",
       "      <th>stat120</th>\n",
       "      <th>stat121</th>\n",
       "      <th>stat122</th>\n",
       "      <th>stat123</th>\n",
       "      <th>stat125</th>\n",
       "    </tr>\n",
       "  </thead>\n",
       "  <tbody>\n",
       "    <tr>\n",
       "      <th>0</th>\n",
       "      <td>player1</td>\n",
       "      <td>0.000057</td>\n",
       "      <td>0.463585</td>\n",
       "      <td>0.269454</td>\n",
       "      <td>0.080972</td>\n",
       "      <td>0.480818</td>\n",
       "      <td>0.058824</td>\n",
       "      <td>0.428506</td>\n",
       "      <td>0.098841</td>\n",
       "      <td>0.117632</td>\n",
       "      <td>...</td>\n",
       "      <td>0.461219</td>\n",
       "      <td>0.464881</td>\n",
       "      <td>0.304522</td>\n",
       "      <td>0.433083</td>\n",
       "      <td>0.189568</td>\n",
       "      <td>0.393393</td>\n",
       "      <td>0.295057</td>\n",
       "      <td>0.251447</td>\n",
       "      <td>0.217143</td>\n",
       "      <td>0.287408</td>\n",
       "    </tr>\n",
       "    <tr>\n",
       "      <th>1</th>\n",
       "      <td>player2</td>\n",
       "      <td>0.000258</td>\n",
       "      <td>0.451477</td>\n",
       "      <td>0.280188</td>\n",
       "      <td>0.053763</td>\n",
       "      <td>0.449686</td>\n",
       "      <td>0.060870</td>\n",
       "      <td>0.557598</td>\n",
       "      <td>0.084276</td>\n",
       "      <td>0.051277</td>\n",
       "      <td>...</td>\n",
       "      <td>0.449231</td>\n",
       "      <td>0.447159</td>\n",
       "      <td>0.282449</td>\n",
       "      <td>0.419728</td>\n",
       "      <td>0.156165</td>\n",
       "      <td>0.403475</td>\n",
       "      <td>0.232939</td>\n",
       "      <td>0.149836</td>\n",
       "      <td>0.136318</td>\n",
       "      <td>0.242417</td>\n",
       "    </tr>\n",
       "    <tr>\n",
       "      <th>2</th>\n",
       "      <td>player3</td>\n",
       "      <td>0.000000</td>\n",
       "      <td>0.394161</td>\n",
       "      <td>0.259720</td>\n",
       "      <td>0.093137</td>\n",
       "      <td>0.498138</td>\n",
       "      <td>0.060150</td>\n",
       "      <td>0.553648</td>\n",
       "      <td>0.056404</td>\n",
       "      <td>0.115620</td>\n",
       "      <td>...</td>\n",
       "      <td>0.395091</td>\n",
       "      <td>0.458876</td>\n",
       "      <td>0.290208</td>\n",
       "      <td>0.424702</td>\n",
       "      <td>0.178597</td>\n",
       "      <td>0.374286</td>\n",
       "      <td>0.263825</td>\n",
       "      <td>0.258818</td>\n",
       "      <td>0.264657</td>\n",
       "      <td>0.264686</td>\n",
       "    </tr>\n",
       "    <tr>\n",
       "      <th>3</th>\n",
       "      <td>player4</td>\n",
       "      <td>0.000000</td>\n",
       "      <td>0.595941</td>\n",
       "      <td>0.285093</td>\n",
       "      <td>0.106122</td>\n",
       "      <td>0.409406</td>\n",
       "      <td>0.094595</td>\n",
       "      <td>0.503968</td>\n",
       "      <td>0.044787</td>\n",
       "      <td>0.123180</td>\n",
       "      <td>...</td>\n",
       "      <td>0.589512</td>\n",
       "      <td>0.421272</td>\n",
       "      <td>0.280153</td>\n",
       "      <td>0.405199</td>\n",
       "      <td>0.223855</td>\n",
       "      <td>0.410256</td>\n",
       "      <td>0.334586</td>\n",
       "      <td>0.270078</td>\n",
       "      <td>0.002787</td>\n",
       "      <td>0.250378</td>\n",
       "    </tr>\n",
       "    <tr>\n",
       "      <th>4</th>\n",
       "      <td>player5</td>\n",
       "      <td>0.000053</td>\n",
       "      <td>0.474469</td>\n",
       "      <td>0.237012</td>\n",
       "      <td>0.069284</td>\n",
       "      <td>0.464455</td>\n",
       "      <td>0.069588</td>\n",
       "      <td>0.584513</td>\n",
       "      <td>0.059305</td>\n",
       "      <td>0.120600</td>\n",
       "      <td>...</td>\n",
       "      <td>0.473045</td>\n",
       "      <td>0.435530</td>\n",
       "      <td>0.307592</td>\n",
       "      <td>0.447303</td>\n",
       "      <td>0.200082</td>\n",
       "      <td>0.364122</td>\n",
       "      <td>0.272970</td>\n",
       "      <td>0.307973</td>\n",
       "      <td>0.010024</td>\n",
       "      <td>0.284349</td>\n",
       "    </tr>\n",
       "    <tr>\n",
       "      <th>...</th>\n",
       "      <td>...</td>\n",
       "      <td>...</td>\n",
       "      <td>...</td>\n",
       "      <td>...</td>\n",
       "      <td>...</td>\n",
       "      <td>...</td>\n",
       "      <td>...</td>\n",
       "      <td>...</td>\n",
       "      <td>...</td>\n",
       "      <td>...</td>\n",
       "      <td>...</td>\n",
       "      <td>...</td>\n",
       "      <td>...</td>\n",
       "      <td>...</td>\n",
       "      <td>...</td>\n",
       "      <td>...</td>\n",
       "      <td>...</td>\n",
       "      <td>...</td>\n",
       "      <td>...</td>\n",
       "      <td>...</td>\n",
       "      <td>...</td>\n",
       "    </tr>\n",
       "    <tr>\n",
       "      <th>542</th>\n",
       "      <td>player543</td>\n",
       "      <td>0.000189</td>\n",
       "      <td>0.534304</td>\n",
       "      <td>0.303557</td>\n",
       "      <td>0.075136</td>\n",
       "      <td>0.627917</td>\n",
       "      <td>0.068460</td>\n",
       "      <td>0.708891</td>\n",
       "      <td>0.197239</td>\n",
       "      <td>0.084507</td>\n",
       "      <td>...</td>\n",
       "      <td>0.529709</td>\n",
       "      <td>0.499697</td>\n",
       "      <td>0.273874</td>\n",
       "      <td>0.395435</td>\n",
       "      <td>0.186000</td>\n",
       "      <td>0.436798</td>\n",
       "      <td>0.266040</td>\n",
       "      <td>0.243204</td>\n",
       "      <td>0.001825</td>\n",
       "      <td>0.235458</td>\n",
       "    </tr>\n",
       "    <tr>\n",
       "      <th>543</th>\n",
       "      <td>player544</td>\n",
       "      <td>0.000308</td>\n",
       "      <td>0.458941</td>\n",
       "      <td>0.219156</td>\n",
       "      <td>0.051532</td>\n",
       "      <td>0.449095</td>\n",
       "      <td>0.034483</td>\n",
       "      <td>0.497431</td>\n",
       "      <td>0.067077</td>\n",
       "      <td>0.087003</td>\n",
       "      <td>...</td>\n",
       "      <td>0.456048</td>\n",
       "      <td>0.447270</td>\n",
       "      <td>0.316664</td>\n",
       "      <td>0.427721</td>\n",
       "      <td>0.168777</td>\n",
       "      <td>0.506645</td>\n",
       "      <td>0.230414</td>\n",
       "      <td>0.209977</td>\n",
       "      <td>0.372106</td>\n",
       "      <td>0.278913</td>\n",
       "    </tr>\n",
       "    <tr>\n",
       "      <th>544</th>\n",
       "      <td>player545</td>\n",
       "      <td>0.000062</td>\n",
       "      <td>0.605558</td>\n",
       "      <td>0.286586</td>\n",
       "      <td>0.049505</td>\n",
       "      <td>0.417582</td>\n",
       "      <td>0.022222</td>\n",
       "      <td>0.435908</td>\n",
       "      <td>0.039554</td>\n",
       "      <td>0.093642</td>\n",
       "      <td>...</td>\n",
       "      <td>0.600606</td>\n",
       "      <td>0.430091</td>\n",
       "      <td>0.240316</td>\n",
       "      <td>0.358848</td>\n",
       "      <td>0.188563</td>\n",
       "      <td>0.465753</td>\n",
       "      <td>0.257146</td>\n",
       "      <td>0.257113</td>\n",
       "      <td>0.008716</td>\n",
       "      <td>0.221611</td>\n",
       "    </tr>\n",
       "    <tr>\n",
       "      <th>545</th>\n",
       "      <td>player546</td>\n",
       "      <td>0.000000</td>\n",
       "      <td>0.437931</td>\n",
       "      <td>0.251155</td>\n",
       "      <td>0.049327</td>\n",
       "      <td>0.672457</td>\n",
       "      <td>0.035714</td>\n",
       "      <td>0.674585</td>\n",
       "      <td>0.222500</td>\n",
       "      <td>0.099401</td>\n",
       "      <td>...</td>\n",
       "      <td>0.434537</td>\n",
       "      <td>0.505311</td>\n",
       "      <td>0.259435</td>\n",
       "      <td>0.414645</td>\n",
       "      <td>0.202812</td>\n",
       "      <td>0.293333</td>\n",
       "      <td>0.338469</td>\n",
       "      <td>0.232558</td>\n",
       "      <td>0.003523</td>\n",
       "      <td>0.224957</td>\n",
       "    </tr>\n",
       "    <tr>\n",
       "      <th>546</th>\n",
       "      <td>player547</td>\n",
       "      <td>0.000000</td>\n",
       "      <td>0.469812</td>\n",
       "      <td>0.254010</td>\n",
       "      <td>0.065061</td>\n",
       "      <td>0.481268</td>\n",
       "      <td>0.062157</td>\n",
       "      <td>0.611164</td>\n",
       "      <td>0.097786</td>\n",
       "      <td>0.080411</td>\n",
       "      <td>...</td>\n",
       "      <td>0.465883</td>\n",
       "      <td>0.446834</td>\n",
       "      <td>0.264338</td>\n",
       "      <td>0.385593</td>\n",
       "      <td>0.174425</td>\n",
       "      <td>0.356493</td>\n",
       "      <td>0.253706</td>\n",
       "      <td>0.224376</td>\n",
       "      <td>0.185434</td>\n",
       "      <td>0.240711</td>\n",
       "    </tr>\n",
       "  </tbody>\n",
       "</table>\n",
       "<p>547 rows × 99 columns</p>\n",
       "</div>"
      ],
      "text/plain": [
       "        player     stat1     stat2     stat4     stat5     stat7     stat9  \\\n",
       "0      player1  0.000057  0.463585  0.269454  0.080972  0.480818  0.058824   \n",
       "1      player2  0.000258  0.451477  0.280188  0.053763  0.449686  0.060870   \n",
       "2      player3  0.000000  0.394161  0.259720  0.093137  0.498138  0.060150   \n",
       "3      player4  0.000000  0.595941  0.285093  0.106122  0.409406  0.094595   \n",
       "4      player5  0.000053  0.474469  0.237012  0.069284  0.464455  0.069588   \n",
       "..         ...       ...       ...       ...       ...       ...       ...   \n",
       "542  player543  0.000189  0.534304  0.303557  0.075136  0.627917  0.068460   \n",
       "543  player544  0.000308  0.458941  0.219156  0.051532  0.449095  0.034483   \n",
       "544  player545  0.000062  0.605558  0.286586  0.049505  0.417582  0.022222   \n",
       "545  player546  0.000000  0.437931  0.251155  0.049327  0.672457  0.035714   \n",
       "546  player547  0.000000  0.469812  0.254010  0.065061  0.481268  0.062157   \n",
       "\n",
       "       stat11    stat12    stat13  ...   stat113   stat115   stat117  \\\n",
       "0    0.428506  0.098841  0.117632  ...  0.461219  0.464881  0.304522   \n",
       "1    0.557598  0.084276  0.051277  ...  0.449231  0.447159  0.282449   \n",
       "2    0.553648  0.056404  0.115620  ...  0.395091  0.458876  0.290208   \n",
       "3    0.503968  0.044787  0.123180  ...  0.589512  0.421272  0.280153   \n",
       "4    0.584513  0.059305  0.120600  ...  0.473045  0.435530  0.307592   \n",
       "..        ...       ...       ...  ...       ...       ...       ...   \n",
       "542  0.708891  0.197239  0.084507  ...  0.529709  0.499697  0.273874   \n",
       "543  0.497431  0.067077  0.087003  ...  0.456048  0.447270  0.316664   \n",
       "544  0.435908  0.039554  0.093642  ...  0.600606  0.430091  0.240316   \n",
       "545  0.674585  0.222500  0.099401  ...  0.434537  0.505311  0.259435   \n",
       "546  0.611164  0.097786  0.080411  ...  0.465883  0.446834  0.264338   \n",
       "\n",
       "      stat118   stat119   stat120   stat121   stat122   stat123   stat125  \n",
       "0    0.433083  0.189568  0.393393  0.295057  0.251447  0.217143  0.287408  \n",
       "1    0.419728  0.156165  0.403475  0.232939  0.149836  0.136318  0.242417  \n",
       "2    0.424702  0.178597  0.374286  0.263825  0.258818  0.264657  0.264686  \n",
       "3    0.405199  0.223855  0.410256  0.334586  0.270078  0.002787  0.250378  \n",
       "4    0.447303  0.200082  0.364122  0.272970  0.307973  0.010024  0.284349  \n",
       "..        ...       ...       ...       ...       ...       ...       ...  \n",
       "542  0.395435  0.186000  0.436798  0.266040  0.243204  0.001825  0.235458  \n",
       "543  0.427721  0.168777  0.506645  0.230414  0.209977  0.372106  0.278913  \n",
       "544  0.358848  0.188563  0.465753  0.257146  0.257113  0.008716  0.221611  \n",
       "545  0.414645  0.202812  0.293333  0.338469  0.232558  0.003523  0.224957  \n",
       "546  0.385593  0.174425  0.356493  0.253706  0.224376  0.185434  0.240711  \n",
       "\n",
       "[547 rows x 99 columns]"
      ]
     },
     "execution_count": 65,
     "metadata": {},
     "output_type": "execute_result"
    }
   ],
   "source": [
    "data"
   ]
  },
  {
   "cell_type": "code",
   "execution_count": 325,
   "id": "c7b9f667",
   "metadata": {},
   "outputs": [
    {
     "name": "stdout",
     "output_type": "stream",
     "text": [
      "Original number of features: 98\n",
      "Reduced number of features: 50\n"
     ]
    }
   ],
   "source": [
    "# scale features\n",
    "features_std = StandardScaler().fit_transform(data.iloc[:, 1:].values)\n",
    "# create PCA which will remain 99% of explained variance\n",
    "pca = PCA(n_components=0.99) \n",
    "features_pca = pca.fit_transform(features_std)\n",
    "print(\"Original number of features:\", data.shape[1])\n",
    "print(\"Reduced number of features:\", features_pca.shape[1])"
   ]
  },
  {
   "cell_type": "code",
   "execution_count": 326,
   "id": "53c9a12e",
   "metadata": {},
   "outputs": [
    {
     "data": {
      "text/html": [
       "<style>#sk-container-id-78 {color: black;background-color: white;}#sk-container-id-78 pre{padding: 0;}#sk-container-id-78 div.sk-toggleable {background-color: white;}#sk-container-id-78 label.sk-toggleable__label {cursor: pointer;display: block;width: 100%;margin-bottom: 0;padding: 0.3em;box-sizing: border-box;text-align: center;}#sk-container-id-78 label.sk-toggleable__label-arrow:before {content: \"▸\";float: left;margin-right: 0.25em;color: #696969;}#sk-container-id-78 label.sk-toggleable__label-arrow:hover:before {color: black;}#sk-container-id-78 div.sk-estimator:hover label.sk-toggleable__label-arrow:before {color: black;}#sk-container-id-78 div.sk-toggleable__content {max-height: 0;max-width: 0;overflow: hidden;text-align: left;background-color: #f0f8ff;}#sk-container-id-78 div.sk-toggleable__content pre {margin: 0.2em;color: black;border-radius: 0.25em;background-color: #f0f8ff;}#sk-container-id-78 input.sk-toggleable__control:checked~div.sk-toggleable__content {max-height: 200px;max-width: 100%;overflow: auto;}#sk-container-id-78 input.sk-toggleable__control:checked~label.sk-toggleable__label-arrow:before {content: \"▾\";}#sk-container-id-78 div.sk-estimator input.sk-toggleable__control:checked~label.sk-toggleable__label {background-color: #d4ebff;}#sk-container-id-78 div.sk-label input.sk-toggleable__control:checked~label.sk-toggleable__label {background-color: #d4ebff;}#sk-container-id-78 input.sk-hidden--visually {border: 0;clip: rect(1px 1px 1px 1px);clip: rect(1px, 1px, 1px, 1px);height: 1px;margin: -1px;overflow: hidden;padding: 0;position: absolute;width: 1px;}#sk-container-id-78 div.sk-estimator {font-family: monospace;background-color: #f0f8ff;border: 1px dotted black;border-radius: 0.25em;box-sizing: border-box;margin-bottom: 0.5em;}#sk-container-id-78 div.sk-estimator:hover {background-color: #d4ebff;}#sk-container-id-78 div.sk-parallel-item::after {content: \"\";width: 100%;border-bottom: 1px solid gray;flex-grow: 1;}#sk-container-id-78 div.sk-label:hover label.sk-toggleable__label {background-color: #d4ebff;}#sk-container-id-78 div.sk-serial::before {content: \"\";position: absolute;border-left: 1px solid gray;box-sizing: border-box;top: 0;bottom: 0;left: 50%;z-index: 0;}#sk-container-id-78 div.sk-serial {display: flex;flex-direction: column;align-items: center;background-color: white;padding-right: 0.2em;padding-left: 0.2em;position: relative;}#sk-container-id-78 div.sk-item {position: relative;z-index: 1;}#sk-container-id-78 div.sk-parallel {display: flex;align-items: stretch;justify-content: center;background-color: white;position: relative;}#sk-container-id-78 div.sk-item::before, #sk-container-id-78 div.sk-parallel-item::before {content: \"\";position: absolute;border-left: 1px solid gray;box-sizing: border-box;top: 0;bottom: 0;left: 50%;z-index: -1;}#sk-container-id-78 div.sk-parallel-item {display: flex;flex-direction: column;z-index: 1;position: relative;background-color: white;}#sk-container-id-78 div.sk-parallel-item:first-child::after {align-self: flex-end;width: 50%;}#sk-container-id-78 div.sk-parallel-item:last-child::after {align-self: flex-start;width: 50%;}#sk-container-id-78 div.sk-parallel-item:only-child::after {width: 0;}#sk-container-id-78 div.sk-dashed-wrapped {border: 1px dashed gray;margin: 0 0.4em 0.5em 0.4em;box-sizing: border-box;padding-bottom: 0.4em;background-color: white;}#sk-container-id-78 div.sk-label label {font-family: monospace;font-weight: bold;display: inline-block;line-height: 1.2em;}#sk-container-id-78 div.sk-label-container {text-align: center;}#sk-container-id-78 div.sk-container {/* jupyter's `normalize.less` sets `[hidden] { display: none; }` but bootstrap.min.css set `[hidden] { display: none !important; }` so we also need the `!important` here to be able to override the default hidden behavior on the sphinx rendered scikit-learn.org. See: https://github.com/scikit-learn/scikit-learn/issues/21755 */display: inline-block !important;position: relative;}#sk-container-id-78 div.sk-text-repr-fallback {display: none;}</style><div id=\"sk-container-id-78\" class=\"sk-top-container\"><div class=\"sk-text-repr-fallback\"><pre>DBSCAN(eps=9, n_jobs=-1)</pre><b>In a Jupyter environment, please rerun this cell to show the HTML representation or trust the notebook. <br />On GitHub, the HTML representation is unable to render, please try loading this page with nbviewer.org.</b></div><div class=\"sk-container\" hidden><div class=\"sk-item\"><div class=\"sk-estimator sk-toggleable\"><input class=\"sk-toggleable__control sk-hidden--visually\" id=\"sk-estimator-id-78\" type=\"checkbox\" checked><label for=\"sk-estimator-id-78\" class=\"sk-toggleable__label sk-toggleable__label-arrow\">DBSCAN</label><div class=\"sk-toggleable__content\"><pre>DBSCAN(eps=9, n_jobs=-1)</pre></div></div></div></div></div>"
      ],
      "text/plain": [
       "DBSCAN(eps=9, n_jobs=-1)"
      ]
     },
     "execution_count": 326,
     "metadata": {},
     "output_type": "execute_result"
    }
   ],
   "source": [
    "kmeans = KMeans(n_clusters=3)\n",
    "kmeans.fit(features_pca)\n",
    "\n",
    "aggl = AgglomerativeClustering(n_clusters=3)\n",
    "aggl.fit(features_pca)\n",
    "\n",
    "dbscan = DBSCAN(eps=9,\n",
    "                min_samples=5,\n",
    "                n_jobs=-1)\n",
    "dbscan.fit(features_pca)"
   ]
  },
  {
   "cell_type": "code",
   "execution_count": 329,
   "id": "73e02800",
   "metadata": {},
   "outputs": [
    {
     "name": "stdout",
     "output_type": "stream",
     "text": [
      "Original number of features: 98\n",
      "Reduced number of features: 2\n"
     ]
    }
   ],
   "source": [
    "pca2 = PCA(n_components=0.3) \n",
    "features_pca2 = pca2.fit_transform(features_std)\n",
    "print(\"Original number of features:\", data.shape[1])\n",
    "print(\"Reduced number of features:\", features_pca2.shape[1])\n",
    "x = features_pca2[:, 0]\n",
    "y = features_pca2[:, 1]"
   ]
  },
  {
   "cell_type": "code",
   "execution_count": 327,
   "id": "a38ca307",
   "metadata": {},
   "outputs": [
    {
     "data": {
      "text/plain": [
       "Counter({0: 451, -1: 72, 1: 24})"
      ]
     },
     "execution_count": 327,
     "metadata": {},
     "output_type": "execute_result"
    }
   ],
   "source": [
    "Counter(dbscan.labels_)"
   ]
  },
  {
   "cell_type": "code",
   "execution_count": 299,
   "id": "7af21b15",
   "metadata": {},
   "outputs": [
    {
     "data": {
      "text/plain": [
       "0.18339859584502116"
      ]
     },
     "execution_count": 299,
     "metadata": {},
     "output_type": "execute_result"
    }
   ],
   "source": [
    "silhouette_score(features_pca, dbscan.labels_)"
   ]
  },
  {
   "cell_type": "code",
   "execution_count": 330,
   "id": "23130fa2",
   "metadata": {},
   "outputs": [
    {
     "data": {
      "text/plain": [
       "<matplotlib.collections.PathCollection at 0x7f45b54ae170>"
      ]
     },
     "execution_count": 330,
     "metadata": {},
     "output_type": "execute_result"
    },
    {
     "data": {
      "image/png": "[encoded data removed]",
      "text/plain": [
       "<Figure size 432x288 with 1 Axes>"
      ]
     },
     "metadata": {
      "needs_background": "light"
     },
     "output_type": "display_data"
    }
   ],
   "source": [
    "plt.scatter(x, y, c=dbscan.labels_)"
   ]
  },
  {
   "cell_type": "code",
   "execution_count": 331,
   "id": "2e9d1513",
   "metadata": {},
   "outputs": [
    {
     "data": {
      "text/plain": [
       "<matplotlib.collections.PathCollection at 0x7f45b5585ba0>"
      ]
     },
     "execution_count": 331,
     "metadata": {},
     "output_type": "execute_result"
    },
    {
     "data": {
      "image/png": "[encoded data removed]",
      "text/plain": [
       "<Figure size 432x288 with 1 Axes>"
      ]
     },
     "metadata": {
      "needs_background": "light"
     },
     "output_type": "display_data"
    }
   ],
   "source": [
    "plt.scatter(x, y, c=kmeans.labels_)"
   ]
  },
  {
   "cell_type": "code",
   "execution_count": 33,
   "id": "4ceae7a4",
   "metadata": {},
   "outputs": [
    {
     "data": {
      "text/plain": [
       "<matplotlib.collections.PathCollection at 0x7f45cc168550>"
      ]
     },
     "execution_count": 33,
     "metadata": {},
     "output_type": "execute_result"
    },
    {
     "data": {
      "image/png": "[encoded data removed]",
      "text/plain": [
       "<Figure size 432x288 with 1 Axes>"
      ]
     },
     "metadata": {
      "needs_background": "light"
     },
     "output_type": "display_data"
    }
   ],
   "source": [
    "plt.scatter(x, y, c=aggl.labels_)"
   ]
  },
  {
   "cell_type": "code",
   "execution_count": 332,
   "id": "15de7cbf",
   "metadata": {},
   "outputs": [],
   "source": [
    "silhouette = []\n",
    "for i in range(2, 13):\n",
    "    aggl = AgglomerativeClustering(n_clusters=i)\n",
    "    aggl.fit(features_pca)\n",
    "    score = silhouette_score(features_pca, aggl.labels_)\n",
    "    silhouette.append(score)"
   ]
  },
  {
   "cell_type": "code",
   "execution_count": 333,
   "id": "8dead09a",
   "metadata": {},
   "outputs": [
    {
     "data": {
      "text/plain": [
       "[<matplotlib.lines.Line2D at 0x7f45b5606c50>]"
      ]
     },
     "execution_count": 333,
     "metadata": {},
     "output_type": "execute_result"
    },
    {
     "data": {
      "image/png": "[encoded data removed]",
      "text/plain": [
       "<Figure size 432x288 with 1 Axes>"
      ]
     },
     "metadata": {
      "needs_background": "light"
     },
     "output_type": "display_data"
    }
   ],
   "source": [
    "x = range(2, 13)\n",
    "plt.plot(x, silhouette)"
   ]
  },
  {
   "cell_type": "code",
   "execution_count": 334,
   "id": "6e2e18f7",
   "metadata": {},
   "outputs": [],
   "source": [
    "silhouette = []\n",
    "for i in range(2, 13):\n",
    "    kmean = KMeans(n_clusters=i)\n",
    "    kmean.fit(features_pca)\n",
    "    score = silhouette_score(features_pca, kmean.labels_)\n",
    "    silhouette.append(score)"
   ]
  },
  {
   "cell_type": "code",
   "execution_count": 335,
   "id": "96652333",
   "metadata": {},
   "outputs": [
    {
     "data": {
      "text/plain": [
       "[<matplotlib.lines.Line2D at 0x7f45bddf7fa0>]"
      ]
     },
     "execution_count": 335,
     "metadata": {},
     "output_type": "execute_result"
    },
    {
     "data": {
      "image/png": "[encoded data removed]",
      "text/plain": [
       "<Figure size 432x288 with 1 Axes>"
      ]
     },
     "metadata": {
      "needs_background": "light"
     },
     "output_type": "display_data"
    }
   ],
   "source": [
    "x = range(2, 13)\n",
    "plt.plot(x, silhouette)"
   ]
  },
  {
   "cell_type": "code",
   "execution_count": 336,
   "id": "41151dca",
   "metadata": {},
   "outputs": [],
   "source": [
    "silhouette = []\n",
    "for i in range(2, 13):\n",
    "    mini_kmean = MiniBatchKMeans(n_clusters=i)\n",
    "    mini_kmean.fit(features_pca)\n",
    "    score = silhouette_score(features_pca, mini_kmean.labels_)\n",
    "    silhouette.append(score)"
   ]
  },
  {
   "cell_type": "code",
   "execution_count": 337,
   "id": "fe774708",
   "metadata": {},
   "outputs": [
    {
     "data": {
      "text/plain": [
       "[<matplotlib.lines.Line2D at 0x7f45affcd840>]"
      ]
     },
     "execution_count": 337,
     "metadata": {},
     "output_type": "execute_result"
    },
    {
     "data": {
      "image/png": "[encoded data removed]",
      "text/plain": [
       "<Figure size 432x288 with 1 Axes>"
      ]
     },
     "metadata": {
      "needs_background": "light"
     },
     "output_type": "display_data"
    }
   ],
   "source": [
    "x = range(2, 13)\n",
    "plt.plot(x, silhouette)"
   ]
  },
  {
   "cell_type": "code",
   "execution_count": 338,
   "id": "adca2ebe",
   "metadata": {},
   "outputs": [],
   "source": [
    "silhouette = []\n",
    "number_of_clusters = []\n",
    "for i in range(4, 20):\n",
    "    dbscan = DBSCAN(eps=i,\n",
    "                    min_samples=5,\n",
    "                    n_jobs=-1)\n",
    "    dbscan.fit(features_pca)\n",
    "    score = silhouette_score(features_pca, dbscan.labels_)\n",
    "    silhouette.append(score)\n",
    "    \n",
    "    clusters = len(Counter(dbscan.labels_))\n",
    "    number_of_clusters.append(clusters)"
   ]
  },
  {
   "cell_type": "code",
   "execution_count": 339,
   "id": "336650dd",
   "metadata": {},
   "outputs": [
    {
     "data": {
      "text/plain": [
       "[<matplotlib.lines.Line2D at 0x7f45b5103610>]"
      ]
     },
     "execution_count": 339,
     "metadata": {},
     "output_type": "execute_result"
    },
    {
     "data": {
      "image/png": "[encoded data removed]",
      "text/plain": [
       "<Figure size 432x288 with 2 Axes>"
      ]
     },
     "metadata": {
      "needs_background": "light"
     },
     "output_type": "display_data"
    }
   ],
   "source": [
    "x = range(4, 20)\n",
    "plt.figure()\n",
    "\n",
    "plt.subplot(211)\n",
    "plt.plot(x, silhouette)\n",
    "\n",
    "plt.subplot(212)\n",
    "plt.plot(x, number_of_clusters)"
   ]
  },
  {
   "cell_type": "code",
   "execution_count": null,
   "id": "48a0ab83",
   "metadata": {},
   "outputs": [],
   "source": []
  }
 ],
 "metadata": {
  "kernelspec": {
   "display_name": "Python 3 (ipykernel)",
   "language": "python",
   "name": "python3"
  },
  "language_info": {
   "codemirror_mode": {
    "name": "ipython",
    "version": 3
   },
   "file_extension": ".py",
   "mimetype": "text/x-python",
   "name": "python",
   "nbconvert_exporter": "python",
   "pygments_lexer": "ipython3",
   "version": "3.10.4"
  }
 },
 "nbformat": 4,
 "nbformat_minor": 5
}
