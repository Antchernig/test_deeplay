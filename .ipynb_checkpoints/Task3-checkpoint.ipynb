{
 "cells": [
  {
   "cell_type": "code",
   "execution_count": 21,
   "id": "e5189928",
   "metadata": {},
   "outputs": [],
   "source": [
    "import pandas as pd\n",
    "import numpy as np\n",
    "import matplotlib.pyplot as plt\n",
    "\n",
    "from sklearn.decomposition import PCA\n",
    "from sklearn.preprocessing import StandardScaler"
   ]
  },
  {
   "cell_type": "markdown",
   "id": "63768984",
   "metadata": {},
   "source": [
    "Как и в предыдущей задаче перед тем как создавать алгоритм для начала проведем разведочный анализ данных."
   ]
  },
  {
   "cell_type": "markdown",
   "id": "47382a5a",
   "metadata": {},
   "source": [
    "# Подготовка данных"
   ]
  },
  {
   "cell_type": "code",
   "execution_count": 2,
   "id": "b604f253",
   "metadata": {},
   "outputs": [],
   "source": [
    "data = pd.read_excel('Testovoe_data.xlsx', sheet_name=3)"
   ]
  },
  {
   "cell_type": "code",
   "execution_count": 4,
   "id": "939520e9",
   "metadata": {},
   "outputs": [
    {
     "data": {
      "text/html": [
       "<div>\n",
       "<style scoped>\n",
       "    .dataframe tbody tr th:only-of-type {\n",
       "        vertical-align: middle;\n",
       "    }\n",
       "\n",
       "    .dataframe tbody tr th {\n",
       "        vertical-align: top;\n",
       "    }\n",
       "\n",
       "    .dataframe thead th {\n",
       "        text-align: right;\n",
       "    }\n",
       "</style>\n",
       "<table border=\"1\" class=\"dataframe\">\n",
       "  <thead>\n",
       "    <tr style=\"text-align: right;\">\n",
       "      <th></th>\n",
       "      <th>player</th>\n",
       "      <th>stat1</th>\n",
       "      <th>stat2</th>\n",
       "      <th>stat3</th>\n",
       "      <th>stat4</th>\n",
       "      <th>stat5</th>\n",
       "      <th>stat6</th>\n",
       "      <th>stat7</th>\n",
       "      <th>stat8</th>\n",
       "      <th>stat9</th>\n",
       "      <th>...</th>\n",
       "      <th>stat118</th>\n",
       "      <th>stat119</th>\n",
       "      <th>stat120</th>\n",
       "      <th>stat121</th>\n",
       "      <th>stat122</th>\n",
       "      <th>stat123</th>\n",
       "      <th>stat124</th>\n",
       "      <th>stat125</th>\n",
       "      <th>stat126</th>\n",
       "      <th>stat127</th>\n",
       "    </tr>\n",
       "  </thead>\n",
       "  <tbody>\n",
       "    <tr>\n",
       "      <th>0</th>\n",
       "      <td>gr_player1</td>\n",
       "      <td>0.000000</td>\n",
       "      <td>0.551756</td>\n",
       "      <td>NaN</td>\n",
       "      <td>0.227376</td>\n",
       "      <td>0.089159</td>\n",
       "      <td>NaN</td>\n",
       "      <td>0.625330</td>\n",
       "      <td>NaN</td>\n",
       "      <td>0.080153</td>\n",
       "      <td>...</td>\n",
       "      <td>0.450982</td>\n",
       "      <td>0.205062</td>\n",
       "      <td>0.326149</td>\n",
       "      <td>0.255466</td>\n",
       "      <td>0.294282</td>\n",
       "      <td>0.002488</td>\n",
       "      <td>NaN</td>\n",
       "      <td>0.265898</td>\n",
       "      <td>NaN</td>\n",
       "      <td>NaN</td>\n",
       "    </tr>\n",
       "    <tr>\n",
       "      <th>1</th>\n",
       "      <td>gr_player2</td>\n",
       "      <td>0.000000</td>\n",
       "      <td>0.559532</td>\n",
       "      <td>NaN</td>\n",
       "      <td>0.197149</td>\n",
       "      <td>0.109987</td>\n",
       "      <td>NaN</td>\n",
       "      <td>0.685624</td>\n",
       "      <td>NaN</td>\n",
       "      <td>0.120219</td>\n",
       "      <td>...</td>\n",
       "      <td>0.438461</td>\n",
       "      <td>0.223621</td>\n",
       "      <td>0.325301</td>\n",
       "      <td>0.274218</td>\n",
       "      <td>0.289307</td>\n",
       "      <td>0.013705</td>\n",
       "      <td>NaN</td>\n",
       "      <td>0.251024</td>\n",
       "      <td>NaN</td>\n",
       "      <td>NaN</td>\n",
       "    </tr>\n",
       "    <tr>\n",
       "      <th>2</th>\n",
       "      <td>gr_player3</td>\n",
       "      <td>0.000013</td>\n",
       "      <td>0.542488</td>\n",
       "      <td>NaN</td>\n",
       "      <td>0.193920</td>\n",
       "      <td>0.079732</td>\n",
       "      <td>NaN</td>\n",
       "      <td>0.619612</td>\n",
       "      <td>NaN</td>\n",
       "      <td>0.072533</td>\n",
       "      <td>...</td>\n",
       "      <td>0.443868</td>\n",
       "      <td>0.197362</td>\n",
       "      <td>0.323240</td>\n",
       "      <td>0.256494</td>\n",
       "      <td>0.303659</td>\n",
       "      <td>0.005041</td>\n",
       "      <td>NaN</td>\n",
       "      <td>0.258904</td>\n",
       "      <td>NaN</td>\n",
       "      <td>NaN</td>\n",
       "    </tr>\n",
       "    <tr>\n",
       "      <th>3</th>\n",
       "      <td>gr_player4</td>\n",
       "      <td>0.000000</td>\n",
       "      <td>0.560295</td>\n",
       "      <td>NaN</td>\n",
       "      <td>0.228996</td>\n",
       "      <td>0.078283</td>\n",
       "      <td>NaN</td>\n",
       "      <td>0.626145</td>\n",
       "      <td>NaN</td>\n",
       "      <td>0.049505</td>\n",
       "      <td>...</td>\n",
       "      <td>0.439452</td>\n",
       "      <td>0.201277</td>\n",
       "      <td>0.311881</td>\n",
       "      <td>0.253795</td>\n",
       "      <td>0.292665</td>\n",
       "      <td>0.005589</td>\n",
       "      <td>NaN</td>\n",
       "      <td>0.244630</td>\n",
       "      <td>NaN</td>\n",
       "      <td>NaN</td>\n",
       "    </tr>\n",
       "    <tr>\n",
       "      <th>4</th>\n",
       "      <td>gr_player5</td>\n",
       "      <td>0.000102</td>\n",
       "      <td>0.592927</td>\n",
       "      <td>NaN</td>\n",
       "      <td>0.231728</td>\n",
       "      <td>0.057743</td>\n",
       "      <td>NaN</td>\n",
       "      <td>0.597334</td>\n",
       "      <td>NaN</td>\n",
       "      <td>0.058140</td>\n",
       "      <td>...</td>\n",
       "      <td>0.426566</td>\n",
       "      <td>0.202446</td>\n",
       "      <td>0.322222</td>\n",
       "      <td>0.267663</td>\n",
       "      <td>0.296040</td>\n",
       "      <td>0.004804</td>\n",
       "      <td>NaN</td>\n",
       "      <td>0.255882</td>\n",
       "      <td>NaN</td>\n",
       "      <td>NaN</td>\n",
       "    </tr>\n",
       "  </tbody>\n",
       "</table>\n",
       "<p>5 rows × 128 columns</p>\n",
       "</div>"
      ],
      "text/plain": [
       "       player     stat1     stat2  stat3     stat4     stat5  stat6     stat7  \\\n",
       "0  gr_player1  0.000000  0.551756    NaN  0.227376  0.089159    NaN  0.625330   \n",
       "1  gr_player2  0.000000  0.559532    NaN  0.197149  0.109987    NaN  0.685624   \n",
       "2  gr_player3  0.000013  0.542488    NaN  0.193920  0.079732    NaN  0.619612   \n",
       "3  gr_player4  0.000000  0.560295    NaN  0.228996  0.078283    NaN  0.626145   \n",
       "4  gr_player5  0.000102  0.592927    NaN  0.231728  0.057743    NaN  0.597334   \n",
       "\n",
       "   stat8     stat9  ...   stat118   stat119   stat120   stat121   stat122  \\\n",
       "0    NaN  0.080153  ...  0.450982  0.205062  0.326149  0.255466  0.294282   \n",
       "1    NaN  0.120219  ...  0.438461  0.223621  0.325301  0.274218  0.289307   \n",
       "2    NaN  0.072533  ...  0.443868  0.197362  0.323240  0.256494  0.303659   \n",
       "3    NaN  0.049505  ...  0.439452  0.201277  0.311881  0.253795  0.292665   \n",
       "4    NaN  0.058140  ...  0.426566  0.202446  0.322222  0.267663  0.296040   \n",
       "\n",
       "    stat123  stat124   stat125  stat126  stat127  \n",
       "0  0.002488      NaN  0.265898      NaN      NaN  \n",
       "1  0.013705      NaN  0.251024      NaN      NaN  \n",
       "2  0.005041      NaN  0.258904      NaN      NaN  \n",
       "3  0.005589      NaN  0.244630      NaN      NaN  \n",
       "4  0.004804      NaN  0.255882      NaN      NaN  \n",
       "\n",
       "[5 rows x 128 columns]"
      ]
     },
     "execution_count": 4,
     "metadata": {},
     "output_type": "execute_result"
    }
   ],
   "source": [
    "data.head()"
   ]
  },
  {
   "cell_type": "code",
   "execution_count": 5,
   "id": "92029fd0",
   "metadata": {},
   "outputs": [
    {
     "name": "stdout",
     "output_type": "stream",
     "text": [
      "stat3: 0 values\n",
      "stat6: 0 values\n",
      "stat8: 0 values\n",
      "stat10: 0 values\n",
      "stat18: 0 values\n",
      "stat21: 0 values\n",
      "stat26: 0 values\n",
      "stat28: 0 values\n",
      "stat29: 0 values\n",
      "stat31: 0 values\n",
      "stat34: 1 values\n",
      "stat52: 0 values\n",
      "stat53: 29 values\n",
      "stat62: 5 values\n",
      "stat67: 0 values\n",
      "stat83: 0 values\n",
      "stat84: 0 values\n",
      "stat85: 0 values\n",
      "stat86: 0 values\n",
      "stat91: 0 values\n",
      "stat92: 4 values\n",
      "stat101: 0 values\n",
      "stat105: 0 values\n",
      "stat108: 0 values\n",
      "stat112: 0 values\n",
      "stat114: 0 values\n",
      "stat116: 0 values\n",
      "stat124: 0 values\n",
      "stat126: 0 values\n",
      "stat127: 0 values\n"
     ]
    }
   ],
   "source": [
    "# перебираем каждую колонку кроме 'player'\n",
    "for i in range(1, data.shape[-1]):\n",
    "    # если значений в колонке меньше, чем должно быть вывести её на экран\n",
    "    if data.iloc[:, i].count() < len(data):\n",
    "        print(f'{data.columns[i]}: {data.iloc[:, i].count()} values')"
   ]
  },
  {
   "cell_type": "code",
   "execution_count": 6,
   "id": "f48bc36b",
   "metadata": {},
   "outputs": [],
   "source": [
    "# удаляем все колонки где нет значений\n",
    "# создаем список для пустых колонок\n",
    "columns_to_drop = []\n",
    "# перебираем все колонки\n",
    "for i in range(1, data.shape[-1]):\n",
    "    # если в колонке нет значений добавить её в список\n",
    "    if data.iloc[:, i].count() == 0:\n",
    "        columns_to_drop.append(data.columns[i])\n",
    "# удалить все колонки из списка\n",
    "data = data.drop(columns_to_drop, axis=1)"
   ]
  },
  {
   "cell_type": "code",
   "execution_count": 7,
   "id": "8c116eed",
   "metadata": {},
   "outputs": [
    {
     "name": "stdout",
     "output_type": "stream",
     "text": [
      "stat34: 1 values\n",
      "stat53: 29 values\n",
      "stat62: 5 values\n",
      "stat92: 4 values\n"
     ]
    }
   ],
   "source": [
    "# перебираем каждую колонку кроме 'player'\n",
    "for i in range(1, data.shape[-1]):\n",
    "    # если значений в колонке меньше, чем должно быть вывести её на экран\n",
    "    if data.iloc[:, i].count() < len(data):\n",
    "        print(f'{data.columns[i]}: {data.iloc[:, i].count()} values')"
   ]
  },
  {
   "cell_type": "code",
   "execution_count": 8,
   "id": "95f81008",
   "metadata": {},
   "outputs": [],
   "source": [
    "# вручную удаляем колонки stat34, stat62, stat92\n",
    "data = data.drop(['stat34', 'stat62', 'stat92'], axis=1)"
   ]
  },
  {
   "cell_type": "code",
   "execution_count": 9,
   "id": "7c78838b",
   "metadata": {},
   "outputs": [
    {
     "data": {
      "text/plain": [
       "<AxesSubplot:>"
      ]
     },
     "execution_count": 9,
     "metadata": {},
     "output_type": "execute_result"
    },
    {
     "data": {
      "image/png": "[encoded data removed]",
      "text/plain": [
       "<Figure size 432x288 with 1 Axes>"
      ]
     },
     "metadata": {
      "needs_background": "light"
     },
     "output_type": "display_data"
    }
   ],
   "source": [
    "# смотрим распределение значений в stat53\n",
    "data['stat53'].hist()"
   ]
  },
  {
   "cell_type": "code",
   "execution_count": 10,
   "id": "6ed81d3d",
   "metadata": {},
   "outputs": [],
   "source": [
    "# аналогично со случаем в предыдущем задании, удалим этот столбец\n",
    "data = data.drop(['stat53'], axis=1)"
   ]
  },
  {
   "cell_type": "code",
   "execution_count": 11,
   "id": "94e15aeb",
   "metadata": {},
   "outputs": [],
   "source": [
    "# перебираем каждую колонку кроме 'player'\n",
    "for i in range(1, data.shape[-1]):\n",
    "    # если значений в колонке меньше, чем должно быть вывести её на экран\n",
    "    if data.iloc[:, i].count() < len(data):\n",
    "        print(f'{data.columns[i]}: {data.iloc[:, i].count()} values')"
   ]
  },
  {
   "cell_type": "code",
   "execution_count": 12,
   "id": "0d12a1c9",
   "metadata": {},
   "outputs": [
    {
     "data": {
      "text/plain": [
       "array([False])"
      ]
     },
     "execution_count": 12,
     "metadata": {},
     "output_type": "execute_result"
    }
   ],
   "source": [
    "# проверяем таблицу на дубликаты\n",
    "# в выходном массиве должно быть одно значение False иначе в таблице есть дубликаты\n",
    "data.duplicated().unique()"
   ]
  },
  {
   "cell_type": "code",
   "execution_count": 13,
   "id": "37171f27",
   "metadata": {},
   "outputs": [],
   "source": [
    "# проверяем типы данных\n",
    "# перебираем все колонки кроме \"player\"\n",
    "for i in range(1, data.shape[-1]):\n",
    "    # если тип данных не float64 вывести параметр на экран\n",
    "    if data[data.columns[i]].dtype != 'float64':\n",
    "        print(f'{data.columns[i]} is {data[data.columns[i]].dtype}')"
   ]
  },
  {
   "cell_type": "markdown",
   "id": "8abefdcc",
   "metadata": {},
   "source": [
    "Для ответа на вопрос \"Какими диапазонами показателей характеризуется стиль игры данной группы?\" мы разделим текущий датафрейм на две части: объединенные игроки и новые игроки."
   ]
  },
  {
   "cell_type": "code",
   "execution_count": 14,
   "id": "9e47b3df",
   "metadata": {},
   "outputs": [],
   "source": [
    "grouped_players_df = data.iloc[:49, :]\n",
    "new_players_df = data.iloc[49:, :]"
   ]
  },
  {
   "cell_type": "markdown",
   "id": "789358b6",
   "metadata": {},
   "source": [
    "Теперь воспользуемся методом describe из библиотеки pandas для описания статистических характеристик каждого показателя: максимальное и минимальное значения, среднее, квартили, стандартное отклонение и т.д."
   ]
  },
  {
   "cell_type": "code",
   "execution_count": 20,
   "id": "1019e858",
   "metadata": {},
   "outputs": [
    {
     "data": {
      "text/html": [
       "<div>\n",
       "<style scoped>\n",
       "    .dataframe tbody tr th:only-of-type {\n",
       "        vertical-align: middle;\n",
       "    }\n",
       "\n",
       "    .dataframe tbody tr th {\n",
       "        vertical-align: top;\n",
       "    }\n",
       "\n",
       "    .dataframe thead th {\n",
       "        text-align: right;\n",
       "    }\n",
       "</style>\n",
       "<table border=\"1\" class=\"dataframe\">\n",
       "  <thead>\n",
       "    <tr style=\"text-align: right;\">\n",
       "      <th></th>\n",
       "      <th>stat1</th>\n",
       "      <th>stat2</th>\n",
       "      <th>stat4</th>\n",
       "      <th>stat5</th>\n",
       "      <th>stat7</th>\n",
       "      <th>stat9</th>\n",
       "      <th>stat11</th>\n",
       "      <th>stat12</th>\n",
       "      <th>stat13</th>\n",
       "      <th>stat14</th>\n",
       "      <th>...</th>\n",
       "      <th>stat113</th>\n",
       "      <th>stat115</th>\n",
       "      <th>stat117</th>\n",
       "      <th>stat118</th>\n",
       "      <th>stat119</th>\n",
       "      <th>stat120</th>\n",
       "      <th>stat121</th>\n",
       "      <th>stat122</th>\n",
       "      <th>stat123</th>\n",
       "      <th>stat125</th>\n",
       "    </tr>\n",
       "  </thead>\n",
       "  <tbody>\n",
       "    <tr>\n",
       "      <th>count</th>\n",
       "      <td>49.000000</td>\n",
       "      <td>49.000000</td>\n",
       "      <td>49.000000</td>\n",
       "      <td>49.000000</td>\n",
       "      <td>49.000000</td>\n",
       "      <td>49.000000</td>\n",
       "      <td>49.000000</td>\n",
       "      <td>49.000000</td>\n",
       "      <td>49.000000</td>\n",
       "      <td>49.000000</td>\n",
       "      <td>...</td>\n",
       "      <td>49.000000</td>\n",
       "      <td>49.000000</td>\n",
       "      <td>49.000000</td>\n",
       "      <td>49.000000</td>\n",
       "      <td>49.000000</td>\n",
       "      <td>49.000000</td>\n",
       "      <td>49.000000</td>\n",
       "      <td>49.000000</td>\n",
       "      <td>49.000000</td>\n",
       "      <td>49.000000</td>\n",
       "    </tr>\n",
       "    <tr>\n",
       "      <th>mean</th>\n",
       "      <td>0.000029</td>\n",
       "      <td>0.540533</td>\n",
       "      <td>0.209573</td>\n",
       "      <td>0.083722</td>\n",
       "      <td>0.619539</td>\n",
       "      <td>0.088133</td>\n",
       "      <td>0.645463</td>\n",
       "      <td>0.103378</td>\n",
       "      <td>0.078916</td>\n",
       "      <td>0.174173</td>\n",
       "      <td>...</td>\n",
       "      <td>0.533279</td>\n",
       "      <td>0.524810</td>\n",
       "      <td>0.303139</td>\n",
       "      <td>0.451366</td>\n",
       "      <td>0.208157</td>\n",
       "      <td>0.317417</td>\n",
       "      <td>0.267814</td>\n",
       "      <td>0.302837</td>\n",
       "      <td>0.009442</td>\n",
       "      <td>0.264321</td>\n",
       "    </tr>\n",
       "    <tr>\n",
       "      <th>std</th>\n",
       "      <td>0.000044</td>\n",
       "      <td>0.042097</td>\n",
       "      <td>0.023784</td>\n",
       "      <td>0.017967</td>\n",
       "      <td>0.025093</td>\n",
       "      <td>0.028859</td>\n",
       "      <td>0.045342</td>\n",
       "      <td>0.019171</td>\n",
       "      <td>0.008759</td>\n",
       "      <td>0.016767</td>\n",
       "      <td>...</td>\n",
       "      <td>0.042637</td>\n",
       "      <td>0.019642</td>\n",
       "      <td>0.013051</td>\n",
       "      <td>0.018891</td>\n",
       "      <td>0.010585</td>\n",
       "      <td>0.039710</td>\n",
       "      <td>0.012628</td>\n",
       "      <td>0.017172</td>\n",
       "      <td>0.007946</td>\n",
       "      <td>0.010170</td>\n",
       "    </tr>\n",
       "    <tr>\n",
       "      <th>min</th>\n",
       "      <td>0.000000</td>\n",
       "      <td>0.438389</td>\n",
       "      <td>0.165808</td>\n",
       "      <td>0.048795</td>\n",
       "      <td>0.561432</td>\n",
       "      <td>0.030928</td>\n",
       "      <td>0.528707</td>\n",
       "      <td>0.063344</td>\n",
       "      <td>0.050592</td>\n",
       "      <td>0.135017</td>\n",
       "      <td>...</td>\n",
       "      <td>0.432753</td>\n",
       "      <td>0.485176</td>\n",
       "      <td>0.275128</td>\n",
       "      <td>0.424543</td>\n",
       "      <td>0.178428</td>\n",
       "      <td>0.206704</td>\n",
       "      <td>0.242901</td>\n",
       "      <td>0.274049</td>\n",
       "      <td>0.000000</td>\n",
       "      <td>0.244630</td>\n",
       "    </tr>\n",
       "    <tr>\n",
       "      <th>25%</th>\n",
       "      <td>0.000000</td>\n",
       "      <td>0.513078</td>\n",
       "      <td>0.193920</td>\n",
       "      <td>0.069825</td>\n",
       "      <td>0.604167</td>\n",
       "      <td>0.066667</td>\n",
       "      <td>0.623690</td>\n",
       "      <td>0.093294</td>\n",
       "      <td>0.073726</td>\n",
       "      <td>0.162665</td>\n",
       "      <td>...</td>\n",
       "      <td>0.503948</td>\n",
       "      <td>0.511203</td>\n",
       "      <td>0.294986</td>\n",
       "      <td>0.439452</td>\n",
       "      <td>0.201608</td>\n",
       "      <td>0.297872</td>\n",
       "      <td>0.258882</td>\n",
       "      <td>0.290530</td>\n",
       "      <td>0.003671</td>\n",
       "      <td>0.258438</td>\n",
       "    </tr>\n",
       "    <tr>\n",
       "      <th>50%</th>\n",
       "      <td>0.000000</td>\n",
       "      <td>0.542497</td>\n",
       "      <td>0.212137</td>\n",
       "      <td>0.080989</td>\n",
       "      <td>0.620611</td>\n",
       "      <td>0.088235</td>\n",
       "      <td>0.649620</td>\n",
       "      <td>0.100592</td>\n",
       "      <td>0.080154</td>\n",
       "      <td>0.170047</td>\n",
       "      <td>...</td>\n",
       "      <td>0.536821</td>\n",
       "      <td>0.525614</td>\n",
       "      <td>0.302927</td>\n",
       "      <td>0.445217</td>\n",
       "      <td>0.207946</td>\n",
       "      <td>0.315126</td>\n",
       "      <td>0.266242</td>\n",
       "      <td>0.299060</td>\n",
       "      <td>0.007303</td>\n",
       "      <td>0.261988</td>\n",
       "    </tr>\n",
       "    <tr>\n",
       "      <th>75%</th>\n",
       "      <td>0.000037</td>\n",
       "      <td>0.565886</td>\n",
       "      <td>0.228403</td>\n",
       "      <td>0.097610</td>\n",
       "      <td>0.633764</td>\n",
       "      <td>0.106383</td>\n",
       "      <td>0.664804</td>\n",
       "      <td>0.119895</td>\n",
       "      <td>0.084339</td>\n",
       "      <td>0.188033</td>\n",
       "      <td>...</td>\n",
       "      <td>0.558827</td>\n",
       "      <td>0.540113</td>\n",
       "      <td>0.311545</td>\n",
       "      <td>0.462004</td>\n",
       "      <td>0.214464</td>\n",
       "      <td>0.340476</td>\n",
       "      <td>0.276149</td>\n",
       "      <td>0.314882</td>\n",
       "      <td>0.012301</td>\n",
       "      <td>0.269510</td>\n",
       "    </tr>\n",
       "    <tr>\n",
       "      <th>max</th>\n",
       "      <td>0.000188</td>\n",
       "      <td>0.623913</td>\n",
       "      <td>0.249847</td>\n",
       "      <td>0.118987</td>\n",
       "      <td>0.685624</td>\n",
       "      <td>0.148515</td>\n",
       "      <td>0.779392</td>\n",
       "      <td>0.151344</td>\n",
       "      <td>0.097127</td>\n",
       "      <td>0.205647</td>\n",
       "      <td>...</td>\n",
       "      <td>0.614509</td>\n",
       "      <td>0.562930</td>\n",
       "      <td>0.330523</td>\n",
       "      <td>0.503048</td>\n",
       "      <td>0.232718</td>\n",
       "      <td>0.433898</td>\n",
       "      <td>0.295311</td>\n",
       "      <td>0.346110</td>\n",
       "      <td>0.034413</td>\n",
       "      <td>0.287544</td>\n",
       "    </tr>\n",
       "  </tbody>\n",
       "</table>\n",
       "<p>8 rows × 97 columns</p>\n",
       "</div>"
      ],
      "text/plain": [
       "           stat1      stat2      stat4      stat5      stat7      stat9  \\\n",
       "count  49.000000  49.000000  49.000000  49.000000  49.000000  49.000000   \n",
       "mean    0.000029   0.540533   0.209573   0.083722   0.619539   0.088133   \n",
       "std     0.000044   0.042097   0.023784   0.017967   0.025093   0.028859   \n",
       "min     0.000000   0.438389   0.165808   0.048795   0.561432   0.030928   \n",
       "25%     0.000000   0.513078   0.193920   0.069825   0.604167   0.066667   \n",
       "50%     0.000000   0.542497   0.212137   0.080989   0.620611   0.088235   \n",
       "75%     0.000037   0.565886   0.228403   0.097610   0.633764   0.106383   \n",
       "max     0.000188   0.623913   0.249847   0.118987   0.685624   0.148515   \n",
       "\n",
       "          stat11     stat12     stat13     stat14  ...    stat113    stat115  \\\n",
       "count  49.000000  49.000000  49.000000  49.000000  ...  49.000000  49.000000   \n",
       "mean    0.645463   0.103378   0.078916   0.174173  ...   0.533279   0.524810   \n",
       "std     0.045342   0.019171   0.008759   0.016767  ...   0.042637   0.019642   \n",
       "min     0.528707   0.063344   0.050592   0.135017  ...   0.432753   0.485176   \n",
       "25%     0.623690   0.093294   0.073726   0.162665  ...   0.503948   0.511203   \n",
       "50%     0.649620   0.100592   0.080154   0.170047  ...   0.536821   0.525614   \n",
       "75%     0.664804   0.119895   0.084339   0.188033  ...   0.558827   0.540113   \n",
       "max     0.779392   0.151344   0.097127   0.205647  ...   0.614509   0.562930   \n",
       "\n",
       "         stat117    stat118    stat119    stat120    stat121    stat122  \\\n",
       "count  49.000000  49.000000  49.000000  49.000000  49.000000  49.000000   \n",
       "mean    0.303139   0.451366   0.208157   0.317417   0.267814   0.302837   \n",
       "std     0.013051   0.018891   0.010585   0.039710   0.012628   0.017172   \n",
       "min     0.275128   0.424543   0.178428   0.206704   0.242901   0.274049   \n",
       "25%     0.294986   0.439452   0.201608   0.297872   0.258882   0.290530   \n",
       "50%     0.302927   0.445217   0.207946   0.315126   0.266242   0.299060   \n",
       "75%     0.311545   0.462004   0.214464   0.340476   0.276149   0.314882   \n",
       "max     0.330523   0.503048   0.232718   0.433898   0.295311   0.346110   \n",
       "\n",
       "         stat123    stat125  \n",
       "count  49.000000  49.000000  \n",
       "mean    0.009442   0.264321  \n",
       "std     0.007946   0.010170  \n",
       "min     0.000000   0.244630  \n",
       "25%     0.003671   0.258438  \n",
       "50%     0.007303   0.261988  \n",
       "75%     0.012301   0.269510  \n",
       "max     0.034413   0.287544  \n",
       "\n",
       "[8 rows x 97 columns]"
      ]
     },
     "execution_count": 20,
     "metadata": {},
     "output_type": "execute_result"
    }
   ],
   "source": [
    "grouped_players_df.describe()"
   ]
  },
  {
   "cell_type": "code",
   "execution_count": 19,
   "id": "73481e37",
   "metadata": {},
   "outputs": [],
   "source": [
    "# подсчет значений (count) в данном случае  является неважной характеристикой\n",
    "# поэтому мы запишим в excel файл все строки кроме этой\n",
    "grouped_players_df.describe().iloc[1:, :].to_excel('stats_charachteristics_task3.xlsx')"
   ]
  },
  {
   "cell_type": "markdown",
   "id": "9b5f6d0f",
   "metadata": {},
   "source": [
    "# Разработка алгоритма отбора"
   ]
  },
  {
   "cell_type": "markdown",
   "id": "21fcba26",
   "metadata": {},
   "source": [
    "Алгоритм будет строится на базе z-score:\n",
    "1. Мы создадим экземпляр StandardScaler (для приведения данных к нормальному распределению)\n",
    "2. Настроим его на данных из первой таблицы с уже сгрупированными игроками\n",
    "3. Применим настроенный StandardScaler на новых игроках.\n",
    "4. Если какие-то показатели у нового игрока будут больше определенного z-score по модулю, то есть основания предполагать, что этот игрок не относится к данной группе."
   ]
  },
  {
   "cell_type": "code",
   "execution_count": 47,
   "id": "cce18e27",
   "metadata": {},
   "outputs": [],
   "source": [
    "# приводим к стандартному виду таблицу с объединенными игроками\n",
    "scaler = StandardScaler()\n",
    "grouped_players_std = scaler.fit_transform(grouped_players_df.iloc[:, 1:].values)"
   ]
  },
  {
   "cell_type": "markdown",
   "id": "bff0010d",
   "metadata": {},
   "source": [
    "Обычно при выявлении выбросов в данных z-score принимают равным 3. Мы сделаем также, для начала мы посмотрим есть ли в первой таблице игроки с показателями превышающими 3 по модулю."
   ]
  },
  {
   "cell_type": "code",
   "execution_count": 96,
   "id": "8be9e453",
   "metadata": {},
   "outputs": [],
   "source": [
    "# для каждого игрока посчитаем колличество параметров где показатель больше 3\n",
    "outliers_number = []\n",
    "# переберем всех игроков\n",
    "for i in range(features_std.shape[0]):\n",
    "    # все параметры для каждого игрока возьмем по модулю\n",
    "    x = np.abs(features_std[i, :])\n",
    "    # вычисляем в скольких парметрах у игрока значения превышают 3 по модулю \n",
    "    outliers = len(np.where(x>=3)[0])\n",
    "    # добавляем это значение в список\n",
    "    outliers_number.append(outliers)"
   ]
  },
  {
   "cell_type": "code",
   "execution_count": 97,
   "id": "d16e2474",
   "metadata": {},
   "outputs": [
    {
     "name": "stdout",
     "output_type": "stream",
     "text": [
      "Самое большое количество превышений z-score среди всех игроков: 4\n"
     ]
    }
   ],
   "source": [
    "print(f'Самое большое количество превышений z-score среди всех игроков: {max(outliers_number)}')"
   ]
  },
  {
   "cell_type": "code",
   "execution_count": 99,
   "id": "53f604e1",
   "metadata": {},
   "outputs": [
    {
     "data": {
      "text/plain": [
       "Text(0.5, 0, 'Кол-во показателей, характеризуемых как выбросы')"
      ]
     },
     "execution_count": 99,
     "metadata": {},
     "output_type": "execute_result"
    },
    {
     "data": {
      "image/png": "[encoded data removed]",
      "text/plain": [
       "<Figure size 432x288 with 1 Axes>"
      ]
     },
     "metadata": {
      "needs_background": "light"
     },
     "output_type": "display_data"
    }
   ],
   "source": [
    "# построим гистограмму распределения\n",
    "plt.hist(outliers_number)\n",
    "plt.ylabel('Кол-во игроков')\n",
    "plt.xlabel('Кол-во показателей, характеризуемых как выбросы')"
   ]
  },
  {
   "cell_type": "markdown",
   "id": "4619e5d3",
   "metadata": {},
   "source": [
    "Мы видим, что у большинства игроков нет показателей выходящих за рамки. На полученных данных мы можем дополнить алгоритм:\n",
    "\n",
    "5. Если у нового игрока кол-во показателей со значениями превышающими 3 по модулю будет больше 5 (берем с небольшим запасом), есть основания полагать, что этот игрок не принадлежит данному классу."
   ]
  },
  {
   "cell_type": "code",
   "execution_count": 92,
   "id": "723fb9e5",
   "metadata": {},
   "outputs": [],
   "source": [
    "# приводим показатели новых игроков к стандартному виду\n",
    "# с использованием показателей полученными при настройке на таблице с объединеными игроками\n",
    "new_players_std = scaler.transform(new_players_df.iloc[:, 1:].values)"
   ]
  },
  {
   "cell_type": "code",
   "execution_count": 101,
   "id": "13eb4081",
   "metadata": {},
   "outputs": [
    {
     "name": "stdout",
     "output_type": "stream",
     "text": [
      "new_player1 не принадлежит группе, 25 параметров с выбросами\n",
      "new_player2 принадлежит группе\n",
      "new_player3 принадлежит группе\n",
      "new_player4 не принадлежит группе, 29 параметров с выбросами\n"
     ]
    }
   ],
   "source": [
    "# перебираем всех новых игроков\n",
    "for i in range(new_players_std.shape[0]):\n",
    "    # берем все показатели по модулю\n",
    "    x = np.abs(new_players_std[i, :])\n",
    "    # если у игрока больше 5 показателей с превышением z-score он не принадлежит группе\n",
    "    if len(np.where(x>=3)[0]) > 5:\n",
    "        print(f'{new_players_df.iloc[i, 0]} не принадлежит группе, {len(np.where(x>=3)[0])} параметров с выбросами')\n",
    "    else:\n",
    "        print(f'{new_players_df.iloc[i, 0]} принадлежит группе')"
   ]
  },
  {
   "cell_type": "markdown",
   "id": "310917ee",
   "metadata": {},
   "source": [
    "# Визуализация результатов"
   ]
  },
  {
   "cell_type": "code",
   "execution_count": 102,
   "id": "cd96a1b1",
   "metadata": {},
   "outputs": [
    {
     "data": {
      "text/plain": [
       "(array([ 4.,  1.,  2., 14., 18., 31., 18.,  2.,  5.,  2.]),\n",
       " array([-9.07461322, -7.5000768 , -5.92554039, -4.35100397, -2.77646756,\n",
       "        -1.20193115,  0.37260527,  1.94714168,  3.5216781 ,  5.09621451,\n",
       "         6.67075093]),\n",
       " <BarContainer object of 10 artists>)"
      ]
     },
     "execution_count": 102,
     "metadata": {},
     "output_type": "execute_result"
    },
    {
     "data": {
      "image/png": "[encoded data removed]",
      "text/plain": [
       "<Figure size 432x288 with 1 Axes>"
      ]
     },
     "metadata": {
      "needs_background": "light"
     },
     "output_type": "display_data"
    }
   ],
   "source": [
    "# построим гистограммы параметров новых игроков\n",
    "# первый игрок\n",
    "plt.hist(new_players_std[0, :])"
   ]
  },
  {
   "cell_type": "code",
   "execution_count": 103,
   "id": "40239bc0",
   "metadata": {},
   "outputs": [
    {
     "data": {
      "text/plain": [
       "(array([ 5., 13.,  9., 12.,  9., 19.,  6.,  7., 13.,  4.]),\n",
       " array([-1.68403084, -1.36500549, -1.04598014, -0.7269548 , -0.40792945,\n",
       "        -0.0889041 ,  0.23012125,  0.5491466 ,  0.86817195,  1.18719729,\n",
       "         1.50622264]),\n",
       " <BarContainer object of 10 artists>)"
      ]
     },
     "execution_count": 103,
     "metadata": {},
     "output_type": "execute_result"
    },
    {
     "data": {
      "image/png": "[encoded data removed]",
      "text/plain": [
       "<Figure size 432x288 with 1 Axes>"
      ]
     },
     "metadata": {
      "needs_background": "light"
     },
     "output_type": "display_data"
    }
   ],
   "source": [
    "# второй игрок\n",
    "plt.hist(new_players_std[1, :])"
   ]
  },
  {
   "cell_type": "code",
   "execution_count": 104,
   "id": "5ba461df",
   "metadata": {},
   "outputs": [
    {
     "data": {
      "text/plain": [
       "(array([ 2.,  2.,  5., 23., 19., 17., 20.,  8.,  0.,  1.]),\n",
       " array([-2.4458016 , -1.91228768, -1.37877377, -0.84525986, -0.31174595,\n",
       "         0.22176796,  0.75528187,  1.28879578,  1.82230969,  2.3558236 ,\n",
       "         2.88933751]),\n",
       " <BarContainer object of 10 artists>)"
      ]
     },
     "execution_count": 104,
     "metadata": {},
     "output_type": "execute_result"
    },
    {
     "data": {
      "image/png": "[encoded data removed]",
      "text/plain": [
       "<Figure size 432x288 with 1 Axes>"
      ]
     },
     "metadata": {
      "needs_background": "light"
     },
     "output_type": "display_data"
    }
   ],
   "source": [
    "# третий игрок\n",
    "plt.hist(new_players_std[2, :])"
   ]
  },
  {
   "cell_type": "code",
   "execution_count": 105,
   "id": "28bac0a4",
   "metadata": {},
   "outputs": [
    {
     "data": {
      "text/plain": [
       "(array([ 2., 13., 20., 25., 23.,  8.,  4.,  0.,  1.,  1.]),\n",
       " array([-6.73139484, -5.16550719, -3.59961953, -2.03373188, -0.46784422,\n",
       "         1.09804343,  2.66393109,  4.22981874,  5.7957064 ,  7.36159405,\n",
       "         8.92748171]),\n",
       " <BarContainer object of 10 artists>)"
      ]
     },
     "execution_count": 105,
     "metadata": {},
     "output_type": "execute_result"
    },
    {
     "data": {
      "image/png": "[encoded data removed]",
      "text/plain": [
       "<Figure size 432x288 with 1 Axes>"
      ]
     },
     "metadata": {
      "needs_background": "light"
     },
     "output_type": "display_data"
    }
   ],
   "source": [
    "# четвертый игрок\n",
    "plt.hist(new_players_std[3, :])"
   ]
  },
  {
   "cell_type": "markdown",
   "id": "f8f35239",
   "metadata": {},
   "source": [
    "На гистограммах четче видно, что у первого и четвертого игрока показатели сильно выходят за рамки и именно по этой причине они не принадлежат к группе."
   ]
  },
  {
   "cell_type": "markdown",
   "id": "6dad10c3",
   "metadata": {},
   "source": [
    "# Конечный алгоритм"
   ]
  },
  {
   "cell_type": "markdown",
   "id": "cc22538e",
   "metadata": {},
   "source": [
    "Работа алгоритма продемонстрирована выше, здесь я попытаюсь представить алгоритм для общего случая:\n",
    "\n",
    "0. Предобработка данных, параметры объединеных игроков и новых игроков должны корректно соотноситься\n",
    "1. Стандартизировать значения параметров игроков объединенных в группу.\n",
    "2. Для каждого игрока из группы расчитать сколько параметров превышают z-score=3 по модулю\n",
    "3. Выбрать максимальное значение из полученного списка и использовать его в качестве критерия (или число немного превышающее максимальное значение)\n",
    "4. Использовав параметры стандартизации получение на этапе (1) стандартизировать параметры новых игроков\n",
    "5. Для каждого нового игрока расчитать сколько параметров превышают z-score=3 по модулю\n",
    "6. Если полученное число больше критерия вычисленного на этапе (3): данный игрок вероятнее всего не принадлежит к данной группе."
   ]
  },
  {
   "cell_type": "code",
   "execution_count": null,
   "id": "9bf27e85",
   "metadata": {},
   "outputs": [],
   "source": []
  }
 ],
 "metadata": {
  "kernelspec": {
   "display_name": "Python 3 (ipykernel)",
   "language": "python",
   "name": "python3"
  },
  "language_info": {
   "codemirror_mode": {
    "name": "ipython",
    "version": 3
   },
   "file_extension": ".py",
   "mimetype": "text/x-python",
   "name": "python",
   "nbconvert_exporter": "python",
   "pygments_lexer": "ipython3",
   "version": "3.10.4"
  }
 },
 "nbformat": 4,
 "nbformat_minor": 5
}
