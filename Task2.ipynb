{
 "cells": [
  {
   "cell_type": "code",
   "execution_count": 1,
   "id": "6c8870ac",
   "metadata": {},
   "outputs": [],
   "source": [
    "import pandas as pd\n",
    "import numpy as np\n",
    "import matplotlib.pyplot as plt\n",
    "from collections import Counter\n",
    "\n",
    "from sklearn.decomposition import PCA\n",
    "from sklearn.preprocessing import StandardScaler\n",
    "from sklearn.cluster import KMeans, AgglomerativeClustering, DBSCAN, MiniBatchKMeans\n",
    "from sklearn.metrics import silhouette_score"
   ]
  },
  {
   "cell_type": "markdown",
   "id": "de0f4a85",
   "metadata": {},
   "source": [
    "Нахождение игроков с одинаковым стилем игры сводится к задаче кластеризации. Перед тем как использовать алгоритмы кластеризации необходимо провести разведочный анализ данных на наличие отсутствующих значений и прочего."
   ]
  },
  {
   "cell_type": "markdown",
   "id": "60ee7427",
   "metadata": {},
   "source": [
    "# Предобработка данных"
   ]
  },
  {
   "cell_type": "code",
   "execution_count": 2,
   "id": "9e77cf0c",
   "metadata": {},
   "outputs": [],
   "source": [
    "# загружаем таблицу из файла в датафрейм\n",
    "data = pd.read_excel('Testovoe_data.xlsx', sheet_name=2)"
   ]
  },
  {
   "cell_type": "code",
   "execution_count": 3,
   "id": "ebab484c",
   "metadata": {},
   "outputs": [
    {
     "data": {
      "text/html": [
       "<div>\n",
       "<style scoped>\n",
       "    .dataframe tbody tr th:only-of-type {\n",
       "        vertical-align: middle;\n",
       "    }\n",
       "\n",
       "    .dataframe tbody tr th {\n",
       "        vertical-align: top;\n",
       "    }\n",
       "\n",
       "    .dataframe thead th {\n",
       "        text-align: right;\n",
       "    }\n",
       "</style>\n",
       "<table border=\"1\" class=\"dataframe\">\n",
       "  <thead>\n",
       "    <tr style=\"text-align: right;\">\n",
       "      <th></th>\n",
       "      <th>player</th>\n",
       "      <th>stat1</th>\n",
       "      <th>stat2</th>\n",
       "      <th>stat3</th>\n",
       "      <th>stat4</th>\n",
       "      <th>stat5</th>\n",
       "      <th>stat6</th>\n",
       "      <th>stat7</th>\n",
       "      <th>stat8</th>\n",
       "      <th>stat9</th>\n",
       "      <th>...</th>\n",
       "      <th>stat118</th>\n",
       "      <th>stat119</th>\n",
       "      <th>stat120</th>\n",
       "      <th>stat121</th>\n",
       "      <th>stat122</th>\n",
       "      <th>stat123</th>\n",
       "      <th>stat124</th>\n",
       "      <th>stat125</th>\n",
       "      <th>stat126</th>\n",
       "      <th>stat127</th>\n",
       "    </tr>\n",
       "  </thead>\n",
       "  <tbody>\n",
       "    <tr>\n",
       "      <th>0</th>\n",
       "      <td>player1</td>\n",
       "      <td>0.000057</td>\n",
       "      <td>0.463585</td>\n",
       "      <td>NaN</td>\n",
       "      <td>0.269454</td>\n",
       "      <td>0.080972</td>\n",
       "      <td>NaN</td>\n",
       "      <td>0.480818</td>\n",
       "      <td>NaN</td>\n",
       "      <td>0.058824</td>\n",
       "      <td>...</td>\n",
       "      <td>0.433083</td>\n",
       "      <td>0.189568</td>\n",
       "      <td>0.393393</td>\n",
       "      <td>0.295057</td>\n",
       "      <td>0.251447</td>\n",
       "      <td>0.217143</td>\n",
       "      <td>NaN</td>\n",
       "      <td>0.287408</td>\n",
       "      <td>NaN</td>\n",
       "      <td>NaN</td>\n",
       "    </tr>\n",
       "    <tr>\n",
       "      <th>1</th>\n",
       "      <td>player2</td>\n",
       "      <td>0.000258</td>\n",
       "      <td>0.451477</td>\n",
       "      <td>NaN</td>\n",
       "      <td>0.280188</td>\n",
       "      <td>0.053763</td>\n",
       "      <td>NaN</td>\n",
       "      <td>0.449686</td>\n",
       "      <td>NaN</td>\n",
       "      <td>0.060870</td>\n",
       "      <td>...</td>\n",
       "      <td>0.419728</td>\n",
       "      <td>0.156165</td>\n",
       "      <td>0.403475</td>\n",
       "      <td>0.232939</td>\n",
       "      <td>0.149836</td>\n",
       "      <td>0.136318</td>\n",
       "      <td>NaN</td>\n",
       "      <td>0.242417</td>\n",
       "      <td>NaN</td>\n",
       "      <td>NaN</td>\n",
       "    </tr>\n",
       "    <tr>\n",
       "      <th>2</th>\n",
       "      <td>player3</td>\n",
       "      <td>0.000000</td>\n",
       "      <td>0.394161</td>\n",
       "      <td>NaN</td>\n",
       "      <td>0.259720</td>\n",
       "      <td>0.093137</td>\n",
       "      <td>NaN</td>\n",
       "      <td>0.498138</td>\n",
       "      <td>NaN</td>\n",
       "      <td>0.060150</td>\n",
       "      <td>...</td>\n",
       "      <td>0.424702</td>\n",
       "      <td>0.178597</td>\n",
       "      <td>0.374286</td>\n",
       "      <td>0.263825</td>\n",
       "      <td>0.258818</td>\n",
       "      <td>0.264657</td>\n",
       "      <td>NaN</td>\n",
       "      <td>0.264686</td>\n",
       "      <td>NaN</td>\n",
       "      <td>NaN</td>\n",
       "    </tr>\n",
       "    <tr>\n",
       "      <th>3</th>\n",
       "      <td>player4</td>\n",
       "      <td>0.000000</td>\n",
       "      <td>0.595941</td>\n",
       "      <td>NaN</td>\n",
       "      <td>0.285093</td>\n",
       "      <td>0.106122</td>\n",
       "      <td>NaN</td>\n",
       "      <td>0.409406</td>\n",
       "      <td>NaN</td>\n",
       "      <td>0.094595</td>\n",
       "      <td>...</td>\n",
       "      <td>0.405199</td>\n",
       "      <td>0.223855</td>\n",
       "      <td>0.410256</td>\n",
       "      <td>0.334586</td>\n",
       "      <td>0.270078</td>\n",
       "      <td>0.002787</td>\n",
       "      <td>NaN</td>\n",
       "      <td>0.250378</td>\n",
       "      <td>NaN</td>\n",
       "      <td>NaN</td>\n",
       "    </tr>\n",
       "    <tr>\n",
       "      <th>4</th>\n",
       "      <td>player5</td>\n",
       "      <td>0.000053</td>\n",
       "      <td>0.474469</td>\n",
       "      <td>NaN</td>\n",
       "      <td>0.237012</td>\n",
       "      <td>0.069284</td>\n",
       "      <td>NaN</td>\n",
       "      <td>0.464455</td>\n",
       "      <td>NaN</td>\n",
       "      <td>0.069588</td>\n",
       "      <td>...</td>\n",
       "      <td>0.447303</td>\n",
       "      <td>0.200082</td>\n",
       "      <td>0.364122</td>\n",
       "      <td>0.272970</td>\n",
       "      <td>0.307973</td>\n",
       "      <td>0.010024</td>\n",
       "      <td>NaN</td>\n",
       "      <td>0.284349</td>\n",
       "      <td>NaN</td>\n",
       "      <td>NaN</td>\n",
       "    </tr>\n",
       "    <tr>\n",
       "      <th>...</th>\n",
       "      <td>...</td>\n",
       "      <td>...</td>\n",
       "      <td>...</td>\n",
       "      <td>...</td>\n",
       "      <td>...</td>\n",
       "      <td>...</td>\n",
       "      <td>...</td>\n",
       "      <td>...</td>\n",
       "      <td>...</td>\n",
       "      <td>...</td>\n",
       "      <td>...</td>\n",
       "      <td>...</td>\n",
       "      <td>...</td>\n",
       "      <td>...</td>\n",
       "      <td>...</td>\n",
       "      <td>...</td>\n",
       "      <td>...</td>\n",
       "      <td>...</td>\n",
       "      <td>...</td>\n",
       "      <td>...</td>\n",
       "      <td>...</td>\n",
       "    </tr>\n",
       "    <tr>\n",
       "      <th>542</th>\n",
       "      <td>player543</td>\n",
       "      <td>0.000189</td>\n",
       "      <td>0.534304</td>\n",
       "      <td>NaN</td>\n",
       "      <td>0.303557</td>\n",
       "      <td>0.075136</td>\n",
       "      <td>NaN</td>\n",
       "      <td>0.627917</td>\n",
       "      <td>NaN</td>\n",
       "      <td>0.068460</td>\n",
       "      <td>...</td>\n",
       "      <td>0.395435</td>\n",
       "      <td>0.186000</td>\n",
       "      <td>0.436798</td>\n",
       "      <td>0.266040</td>\n",
       "      <td>0.243204</td>\n",
       "      <td>0.001825</td>\n",
       "      <td>NaN</td>\n",
       "      <td>0.235458</td>\n",
       "      <td>NaN</td>\n",
       "      <td>NaN</td>\n",
       "    </tr>\n",
       "    <tr>\n",
       "      <th>543</th>\n",
       "      <td>player544</td>\n",
       "      <td>0.000308</td>\n",
       "      <td>0.458941</td>\n",
       "      <td>NaN</td>\n",
       "      <td>0.219156</td>\n",
       "      <td>0.051532</td>\n",
       "      <td>NaN</td>\n",
       "      <td>0.449095</td>\n",
       "      <td>NaN</td>\n",
       "      <td>0.034483</td>\n",
       "      <td>...</td>\n",
       "      <td>0.427721</td>\n",
       "      <td>0.168777</td>\n",
       "      <td>0.506645</td>\n",
       "      <td>0.230414</td>\n",
       "      <td>0.209977</td>\n",
       "      <td>0.372106</td>\n",
       "      <td>NaN</td>\n",
       "      <td>0.278913</td>\n",
       "      <td>NaN</td>\n",
       "      <td>NaN</td>\n",
       "    </tr>\n",
       "    <tr>\n",
       "      <th>544</th>\n",
       "      <td>player545</td>\n",
       "      <td>0.000062</td>\n",
       "      <td>0.605558</td>\n",
       "      <td>NaN</td>\n",
       "      <td>0.286586</td>\n",
       "      <td>0.049505</td>\n",
       "      <td>NaN</td>\n",
       "      <td>0.417582</td>\n",
       "      <td>NaN</td>\n",
       "      <td>0.022222</td>\n",
       "      <td>...</td>\n",
       "      <td>0.358848</td>\n",
       "      <td>0.188563</td>\n",
       "      <td>0.465753</td>\n",
       "      <td>0.257146</td>\n",
       "      <td>0.257113</td>\n",
       "      <td>0.008716</td>\n",
       "      <td>NaN</td>\n",
       "      <td>0.221611</td>\n",
       "      <td>NaN</td>\n",
       "      <td>NaN</td>\n",
       "    </tr>\n",
       "    <tr>\n",
       "      <th>545</th>\n",
       "      <td>player546</td>\n",
       "      <td>0.000000</td>\n",
       "      <td>0.437931</td>\n",
       "      <td>NaN</td>\n",
       "      <td>0.251155</td>\n",
       "      <td>0.049327</td>\n",
       "      <td>NaN</td>\n",
       "      <td>0.672457</td>\n",
       "      <td>NaN</td>\n",
       "      <td>0.035714</td>\n",
       "      <td>...</td>\n",
       "      <td>0.414645</td>\n",
       "      <td>0.202812</td>\n",
       "      <td>0.293333</td>\n",
       "      <td>0.338469</td>\n",
       "      <td>0.232558</td>\n",
       "      <td>0.003523</td>\n",
       "      <td>NaN</td>\n",
       "      <td>0.224957</td>\n",
       "      <td>NaN</td>\n",
       "      <td>NaN</td>\n",
       "    </tr>\n",
       "    <tr>\n",
       "      <th>546</th>\n",
       "      <td>player547</td>\n",
       "      <td>0.000000</td>\n",
       "      <td>0.469812</td>\n",
       "      <td>NaN</td>\n",
       "      <td>0.254010</td>\n",
       "      <td>0.065061</td>\n",
       "      <td>NaN</td>\n",
       "      <td>0.481268</td>\n",
       "      <td>NaN</td>\n",
       "      <td>0.062157</td>\n",
       "      <td>...</td>\n",
       "      <td>0.385593</td>\n",
       "      <td>0.174425</td>\n",
       "      <td>0.356493</td>\n",
       "      <td>0.253706</td>\n",
       "      <td>0.224376</td>\n",
       "      <td>0.185434</td>\n",
       "      <td>NaN</td>\n",
       "      <td>0.240711</td>\n",
       "      <td>NaN</td>\n",
       "      <td>NaN</td>\n",
       "    </tr>\n",
       "  </tbody>\n",
       "</table>\n",
       "<p>547 rows × 128 columns</p>\n",
       "</div>"
      ],
      "text/plain": [
       "        player     stat1     stat2  stat3     stat4     stat5  stat6  \\\n",
       "0      player1  0.000057  0.463585    NaN  0.269454  0.080972    NaN   \n",
       "1      player2  0.000258  0.451477    NaN  0.280188  0.053763    NaN   \n",
       "2      player3  0.000000  0.394161    NaN  0.259720  0.093137    NaN   \n",
       "3      player4  0.000000  0.595941    NaN  0.285093  0.106122    NaN   \n",
       "4      player5  0.000053  0.474469    NaN  0.237012  0.069284    NaN   \n",
       "..         ...       ...       ...    ...       ...       ...    ...   \n",
       "542  player543  0.000189  0.534304    NaN  0.303557  0.075136    NaN   \n",
       "543  player544  0.000308  0.458941    NaN  0.219156  0.051532    NaN   \n",
       "544  player545  0.000062  0.605558    NaN  0.286586  0.049505    NaN   \n",
       "545  player546  0.000000  0.437931    NaN  0.251155  0.049327    NaN   \n",
       "546  player547  0.000000  0.469812    NaN  0.254010  0.065061    NaN   \n",
       "\n",
       "        stat7  stat8     stat9  ...   stat118   stat119   stat120   stat121  \\\n",
       "0    0.480818    NaN  0.058824  ...  0.433083  0.189568  0.393393  0.295057   \n",
       "1    0.449686    NaN  0.060870  ...  0.419728  0.156165  0.403475  0.232939   \n",
       "2    0.498138    NaN  0.060150  ...  0.424702  0.178597  0.374286  0.263825   \n",
       "3    0.409406    NaN  0.094595  ...  0.405199  0.223855  0.410256  0.334586   \n",
       "4    0.464455    NaN  0.069588  ...  0.447303  0.200082  0.364122  0.272970   \n",
       "..        ...    ...       ...  ...       ...       ...       ...       ...   \n",
       "542  0.627917    NaN  0.068460  ...  0.395435  0.186000  0.436798  0.266040   \n",
       "543  0.449095    NaN  0.034483  ...  0.427721  0.168777  0.506645  0.230414   \n",
       "544  0.417582    NaN  0.022222  ...  0.358848  0.188563  0.465753  0.257146   \n",
       "545  0.672457    NaN  0.035714  ...  0.414645  0.202812  0.293333  0.338469   \n",
       "546  0.481268    NaN  0.062157  ...  0.385593  0.174425  0.356493  0.253706   \n",
       "\n",
       "      stat122   stat123  stat124   stat125  stat126  stat127  \n",
       "0    0.251447  0.217143      NaN  0.287408      NaN      NaN  \n",
       "1    0.149836  0.136318      NaN  0.242417      NaN      NaN  \n",
       "2    0.258818  0.264657      NaN  0.264686      NaN      NaN  \n",
       "3    0.270078  0.002787      NaN  0.250378      NaN      NaN  \n",
       "4    0.307973  0.010024      NaN  0.284349      NaN      NaN  \n",
       "..        ...       ...      ...       ...      ...      ...  \n",
       "542  0.243204  0.001825      NaN  0.235458      NaN      NaN  \n",
       "543  0.209977  0.372106      NaN  0.278913      NaN      NaN  \n",
       "544  0.257113  0.008716      NaN  0.221611      NaN      NaN  \n",
       "545  0.232558  0.003523      NaN  0.224957      NaN      NaN  \n",
       "546  0.224376  0.185434      NaN  0.240711      NaN      NaN  \n",
       "\n",
       "[547 rows x 128 columns]"
      ]
     },
     "execution_count": 3,
     "metadata": {},
     "output_type": "execute_result"
    }
   ],
   "source": [
    "data"
   ]
  },
  {
   "cell_type": "markdown",
   "id": "c7a6e0bf",
   "metadata": {},
   "source": [
    "Всего в таблице 547 игроков, поэтому будем искать показатели где количество значений меньше 547."
   ]
  },
  {
   "cell_type": "code",
   "execution_count": 4,
   "id": "b3d8145b",
   "metadata": {},
   "outputs": [
    {
     "name": "stdout",
     "output_type": "stream",
     "text": [
      "stat3: 0 values\n",
      "stat6: 0 values\n",
      "stat8: 0 values\n",
      "stat9: 545 values\n",
      "stat10: 0 values\n",
      "stat18: 0 values\n",
      "stat21: 0 values\n",
      "stat26: 0 values\n",
      "stat28: 0 values\n",
      "stat29: 0 values\n",
      "stat31: 0 values\n",
      "stat34: 0 values\n",
      "stat52: 0 values\n",
      "stat53: 177 values\n",
      "stat62: 4 values\n",
      "stat67: 0 values\n",
      "stat80: 546 values\n",
      "stat83: 0 values\n",
      "stat84: 0 values\n",
      "stat85: 0 values\n",
      "stat86: 0 values\n",
      "stat91: 0 values\n",
      "stat92: 5 values\n",
      "stat101: 0 values\n",
      "stat105: 0 values\n",
      "stat106: 546 values\n",
      "stat108: 0 values\n",
      "stat112: 0 values\n",
      "stat114: 0 values\n",
      "stat116: 0 values\n",
      "stat124: 0 values\n",
      "stat126: 0 values\n",
      "stat127: 0 values\n"
     ]
    }
   ],
   "source": [
    "# Перебираем все колонки кроме \"player\"\n",
    "for i in range(1, data.shape[-1]):\n",
    "    # если кол-во значений в колонке меньше 547 вывести её на экран\n",
    "    if data.iloc[:, i].count() < len(data):\n",
    "        print(f'{data.columns[i]}: {data.iloc[:, i].count()} values')"
   ]
  },
  {
   "cell_type": "markdown",
   "id": "fd91a2a2",
   "metadata": {},
   "source": [
    "Очень много абсолютно пустых колонок, мы просто их удалим"
   ]
  },
  {
   "cell_type": "code",
   "execution_count": 5,
   "id": "42db23a0",
   "metadata": {},
   "outputs": [],
   "source": [
    "# создаем пустой список куда будут записываться названия колонок\n",
    "columns_to_drop = []\n",
    "# перебираем все колонки кроме \"player\"\n",
    "for i in range(1, data.shape[-1]):\n",
    "    # если в колнке нет значений добавить её в список\n",
    "    if data.iloc[:, i].count() == 0:\n",
    "        columns_to_drop.append(data.columns[i])\n",
    "# удалить из фрейма колонки находящиеся в списке\n",
    "data = data.drop(columns_to_drop, axis=1)"
   ]
  },
  {
   "cell_type": "code",
   "execution_count": 6,
   "id": "f4ff6df5",
   "metadata": {},
   "outputs": [
    {
     "name": "stdout",
     "output_type": "stream",
     "text": [
      "stat9: 545 values\n",
      "stat53: 177 values\n",
      "stat62: 4 values\n",
      "stat80: 546 values\n",
      "stat92: 5 values\n",
      "stat106: 546 values\n"
     ]
    }
   ],
   "source": [
    "# Перебираем все колонки кроме \"player\"\n",
    "for i in range(1, data.shape[-1]):\n",
    "    # если кол-во значений в колонке меньше 547 вывести её на экран\n",
    "    if data.iloc[:, i].count() < len(data):\n",
    "        print(f'{data.columns[i]}: {data.iloc[:, i].count()} values')"
   ]
  },
  {
   "cell_type": "markdown",
   "id": "47760899",
   "metadata": {},
   "source": [
    "С остальными колонками разберемся в ручную. "
   ]
  },
  {
   "cell_type": "code",
   "execution_count": 8,
   "id": "f8b57fb6",
   "metadata": {},
   "outputs": [],
   "source": [
    "# начнем с колонок \"stat62\" и \"stat92\" их мы просто удалим т.к. значений очень мало.\n",
    "data = data.drop(['stat62', 'stat92'], axis=1)"
   ]
  },
  {
   "cell_type": "code",
   "execution_count": 9,
   "id": "592b086d",
   "metadata": {},
   "outputs": [
    {
     "name": "stdout",
     "output_type": "stream",
     "text": [
      "float64\n",
      "float64\n",
      "float64\n"
     ]
    }
   ],
   "source": [
    "# проверим тип данных для колонок \"stat9\", 'stat80' и \"stat106\"\n",
    "print(data['stat9'].dtype)\n",
    "print(data['stat80'].dtype)\n",
    "print(data['stat106'].dtype)"
   ]
  },
  {
   "cell_type": "code",
   "execution_count": 10,
   "id": "7bdb1618",
   "metadata": {},
   "outputs": [],
   "source": [
    "# это числовые колонки поэтому в пропущенные места вставим среднее значение\n",
    "data['stat9'] = data['stat9'].fillna(data['stat9'].mean())\n",
    "data['stat80'] = data['stat80'].fillna(data['stat80'].mean())\n",
    "data['stat106'] = data['stat106'].fillna(data['stat106'].mean())"
   ]
  },
  {
   "cell_type": "code",
   "execution_count": 11,
   "id": "491258da",
   "metadata": {},
   "outputs": [
    {
     "data": {
      "text/plain": [
       "<AxesSubplot:>"
      ]
     },
     "execution_count": 11,
     "metadata": {},
     "output_type": "execute_result"
    },
    {
     "data": {
      "image/png": "[encoded data removed]",
      "text/plain": [
       "<Figure size 432x288 with 1 Axes>"
      ]
     },
     "metadata": {
      "needs_background": "light"
     },
     "output_type": "display_data"
    }
   ],
   "source": [
    "# для stat53 выведем распределение значений\n",
    "data['stat53'].hist()"
   ]
  },
  {
   "cell_type": "markdown",
   "id": "5e1f510c",
   "metadata": {},
   "source": [
    "Вставлять в пустые места среднее значение в данном случае будет некорректно. Опираясь на определение показателей как \"отношение числа произведенных игровых действий одного типа к числу возможностей данное действие произвести\" делаем вывод что большая часть игроков это действие не совершают. Я вижу два варианта действий в данном случае: либо заполнить пропуски нулями либо вообще удалить эту колонку. Поскольку по данному показателю очень мало данных,а большая часть из присутствующих данных это нули я принимаю решение удалить эту колонку."
   ]
  },
  {
   "cell_type": "code",
   "execution_count": 13,
   "id": "f335f514",
   "metadata": {},
   "outputs": [],
   "source": [
    "data = data.drop(['stat53'], axis=1)"
   ]
  },
  {
   "cell_type": "code",
   "execution_count": 14,
   "id": "83998579",
   "metadata": {},
   "outputs": [],
   "source": [
    "# Перебираем все колонки кроме \"player\"\n",
    "for i in range(1, data.shape[-1]):\n",
    "    # если кол-во значений в колонке меньше 547 вывести её на экран\n",
    "    if data.iloc[:, i].count() < len(data):\n",
    "        print(f'{data.columns[i]}: {data.iloc[:, i].count()} values')"
   ]
  },
  {
   "cell_type": "markdown",
   "id": "1a520059",
   "metadata": {},
   "source": [
    "Разобрались с отсутствующими значениями, теперь проверим нет ли в данных дубликатов, а так же проверим тип данных для каждой колонки (из условия задачи мы знаем, что во всех колонках численные данные, но можно предположить случай, когда число записано как строка, например \"0.5\" вместо 0.5)"
   ]
  },
  {
   "cell_type": "code",
   "execution_count": 15,
   "id": "bab2827d",
   "metadata": {},
   "outputs": [
    {
     "data": {
      "text/plain": [
       "array([False])"
      ]
     },
     "execution_count": 15,
     "metadata": {},
     "output_type": "execute_result"
    }
   ],
   "source": [
    "# в выходном массиве должно быть одно значение False иначе в таблице есть дубликаты\n",
    "data.duplicated().unique()"
   ]
  },
  {
   "cell_type": "code",
   "execution_count": 16,
   "id": "3b1abd50",
   "metadata": {},
   "outputs": [
    {
     "name": "stdout",
     "output_type": "stream",
     "text": [
      "Done!\n"
     ]
    }
   ],
   "source": [
    "# перебираем все колонки кроме \"player\"\n",
    "for i in range(1, data.shape[-1]):\n",
    "    # если тип данных не float64 вывести параметр на экран\n",
    "    if data[data.columns[i]].dtype != 'float64':\n",
    "        print(f'{data.columns[i]} is {data[data.columns[i]].dtype}')\n",
    "\n",
    "print('Done!')"
   ]
  },
  {
   "cell_type": "markdown",
   "id": "a9bdcb00",
   "metadata": {},
   "source": [
    "Предобработка данных закончена (я сознательно не исследовал данные на выбросы). Приступаем к кластеризации, центральным алгоритмом кластеризации будет DBSCAN. У него есть одно полезное свойство во время кластеризации помимо метки кластера он может присвоить образцу метку \"шум\" (-1). В нашем случае это игроки, которые играют в своем собственном стиле и не могут быть отнесены ни к какому кластеру. Перед  использование алгоритма мы стандартизируем данные и понизим их размерность с помощью алгоритма принципиальных компонент (PCA)."
   ]
  },
  {
   "cell_type": "markdown",
   "id": "18bf8d63",
   "metadata": {},
   "source": [
    "Несмотря на то, что алгоритм DBSCAN сам умеет определять количество кластеров я хочу заранее попытаться оценить их количество. С помощью визуализации и коеффициента силуэта. "
   ]
  },
  {
   "cell_type": "markdown",
   "id": "fe5bdb5e",
   "metadata": {},
   "source": [
    "# Трансформация данных"
   ]
  },
  {
   "cell_type": "code",
   "execution_count": 18,
   "id": "ca0bfc31",
   "metadata": {},
   "outputs": [
    {
     "name": "stdout",
     "output_type": "stream",
     "text": [
      "Оригинальное кол-во показателей: 98\n",
      "Кол-во показателей после снижения размерности: 50\n"
     ]
    }
   ],
   "source": [
    "# стандартизируем показатели \n",
    "# приводим к нормальному распределению, где среднее равно нулю, а стандартное отклонение единице\n",
    "features = data.iloc[:, 1:].values\n",
    "features_std = StandardScaler().fit_transform(features)\n",
    "# создаем экземпляр класса PCA, он понизит размерность данных так, чтобы сохранилосб 99% объясненой дисперсии\n",
    "pca = PCA(n_components=0.99) \n",
    "features_pca = pca.fit_transform(features_std)\n",
    "print(\"Оригинальное кол-во показателей:\", data.shape[1])\n",
    "print(\"Кол-во показателей после снижения размерности:\", features_pca.shape[1])"
   ]
  },
  {
   "cell_type": "markdown",
   "id": "07061667",
   "metadata": {},
   "source": [
    "Данные действия были предприняты по нескольким причинам:\n",
    "1. Стандартизация данных ускоряет вычисления\n",
    "2. Понижение размерности избавляет от проблемы мультиколлинеарности (корреляция между показателями)\n",
    "3. Многие алгоритмы кластеризации (DBSCAN в том числе) основаны на вычислении расстояний между образцами,с ростом количества измерений (показателей) может возникнуть эффект \"проклятие многомерности\", который ухудшит качество работы алгоритмов."
   ]
  },
  {
   "cell_type": "markdown",
   "id": "cb8878de",
   "metadata": {},
   "source": [
    "# Определение кол-ва кластеров"
   ]
  },
  {
   "cell_type": "markdown",
   "id": "c69b8f7b",
   "metadata": {},
   "source": [
    "Для начала попробуем визуально оценить кол-во кластеров, для этого воспользуемся тем же алгоритмом PCA, но в этот раз зададим ему оставить всего два самых \"ценных\" показателя и нарисуем точечную диаграмму."
   ]
  },
  {
   "cell_type": "code",
   "execution_count": 19,
   "id": "eacc8c5b",
   "metadata": {},
   "outputs": [
    {
     "data": {
      "text/plain": [
       "<matplotlib.collections.PathCollection at 0x7f6adaae2e90>"
      ]
     },
     "execution_count": 19,
     "metadata": {},
     "output_type": "execute_result"
    },
    {
     "data": {
      "image/png": "[encoded data removed]",
      "text/plain": [
       "<Figure size 432x288 with 1 Axes>"
      ]
     },
     "metadata": {
      "needs_background": "light"
     },
     "output_type": "display_data"
    }
   ],
   "source": [
    "pca_visual = PCA(n_components=2)\n",
    "# снижаем размерность с 98 до 2\n",
    "visual_features = pca_visual.fit_transform(features_std)\n",
    "# эти два показателя будут х и у для визуализации на координатной сетке\n",
    "x = visual_features[:, 0]\n",
    "y = visual_features[:, 1]\n",
    "# нарисовать точечную диаграмму\n",
    "plt.scatter(x, y)"
   ]
  },
  {
   "cell_type": "markdown",
   "id": "6122dd17",
   "metadata": {},
   "source": [
    "Судить по диаграмме о кол-ве кластеров трудно, но она нам еще может пригодится для анализа работы алгоритма."
   ]
  },
  {
   "cell_type": "markdown",
   "id": "d49e612b",
   "metadata": {},
   "source": [
    "Теперь попробуем аналитически прикинуть кол-во кластеров для этого мы используем три аллгоритма кластеризации: KMeans, MiniBatchKMeans и AgglomerativeClustering, в которых мы сами должны задавать кол-во кластеров. Как это будет работать:\n",
    "1. Зададим диапазон кол-ва кластеров от 2 до 12\n",
    "2. Каждый алгоритм произведет кластеризацию 11 раз с разным кол-вом кластеров\n",
    "3. После каждой кластеризации вычисляем коэффициент силуэта\n",
    "4. Строим график зависимости коэффициента силуэта от кол-ва кластеров\n",
    "5. Пик на графике будет указывать предположительное кол-во кластеров"
   ]
  },
  {
   "cell_type": "code",
   "execution_count": 23,
   "id": "a08a71bb",
   "metadata": {},
   "outputs": [
    {
     "data": {
      "text/plain": [
       "Text(0.5, 1.0, 'Коэффициент силуэта для алгоритма KMeans')"
      ]
     },
     "execution_count": 23,
     "metadata": {},
     "output_type": "execute_result"
    },
    {
     "data": {
      "image/png": "[encoded data removed]",
      "text/plain": [
       "<Figure size 432x288 with 1 Axes>"
      ]
     },
     "metadata": {
      "needs_background": "light"
     },
     "output_type": "display_data"
    }
   ],
   "source": [
    "clusters = range(2, 13)\n",
    "# создаем пустой лист куда будем заносить коеф. силуэта для разных количеств кластеров\n",
    "silhouette = []\n",
    "for i in clusters:\n",
    "    # инициализируем алгоритм и применияем его к трансформированным данным\n",
    "    kmean = KMeans(n_clusters=i)\n",
    "    kmean.fit(features_pca)\n",
    "    # вычисляем коеф.\n",
    "    score = silhouette_score(features_pca, kmean.labels_)\n",
    "    # добавляем его в список\n",
    "    silhouette.append(score)\n",
    "# создаем график\n",
    "plt.plot(clusters, silhouette)\n",
    "plt.xlabel('Кол-во кластеров')\n",
    "plt.ylabel('Коеф. силуэта')\n",
    "plt.title('Коэффициент силуэта для алгоритма KMeans')"
   ]
  },
  {
   "cell_type": "code",
   "execution_count": 24,
   "id": "67e6ff96",
   "metadata": {},
   "outputs": [
    {
     "data": {
      "text/plain": [
       "Text(0.5, 1.0, 'Коэффициент силуэта для алгоритма MiniBatchKmeans')"
      ]
     },
     "execution_count": 24,
     "metadata": {},
     "output_type": "execute_result"
    },
    {
     "data": {
      "image/png": "[encoded data removed]",
      "text/plain": [
       "<Figure size 432x288 with 1 Axes>"
      ]
     },
     "metadata": {
      "needs_background": "light"
     },
     "output_type": "display_data"
    }
   ],
   "source": [
    "silhouette = []\n",
    "for i in clusters:\n",
    "    mini_kmean = MiniBatchKMeans(n_clusters=i)\n",
    "    mini_kmean.fit(features_pca)\n",
    "    score = silhouette_score(features_pca, mini_kmean.labels_)\n",
    "    silhouette.append(score)\n",
    "# создаем график\n",
    "plt.plot(clusters, silhouette)\n",
    "plt.xlabel('Кол-во кластеров')\n",
    "plt.ylabel('Коеф. силуэта')\n",
    "plt.title('Коэффициент силуэта для алгоритма MiniBatchKmeans')"
   ]
  },
  {
   "cell_type": "code",
   "execution_count": 22,
   "id": "488b5d0f",
   "metadata": {},
   "outputs": [
    {
     "data": {
      "text/plain": [
       "Text(0.5, 1.0, 'Коэффициент силуэта для алгоритма AgglomerativeClustering')"
      ]
     },
     "execution_count": 22,
     "metadata": {},
     "output_type": "execute_result"
    },
    {
     "data": {
      "image/png": "[encoded data removed]",
      "text/plain": [
       "<Figure size 432x288 with 1 Axes>"
      ]
     },
     "metadata": {
      "needs_background": "light"
     },
     "output_type": "display_data"
    }
   ],
   "source": [
    "silhouette = []\n",
    "for i in clusters:\n",
    "    aggl = AgglomerativeClustering(n_clusters=i)\n",
    "    aggl.fit(features_pca)\n",
    "    score = silhouette_score(features_pca, aggl.labels_)\n",
    "    silhouette.append(score)\n",
    "# создаем график\n",
    "plt.plot(clusters, silhouette)\n",
    "plt.xlabel('Кол-во кластеров')\n",
    "plt.ylabel('Коеф. силуэта')\n",
    "plt.title('Коэффициент силуэта для алгоритма AgglomerativeClustering')"
   ]
  },
  {
   "cell_type": "markdown",
   "id": "9b89a28b",
   "metadata": {},
   "source": [
    "Из графиков следует, что оптимальное число кластеров не превышает 3. С учетом работы алгоритма DBSCAN я предполагаю два варианта развития событий: нахождение одного кластера и все что не вошло в него будет шумом, нахождение двух кластеров и все что не вошло в них будет шумом."
   ]
  },
  {
   "cell_type": "markdown",
   "id": "5b440af3",
   "metadata": {},
   "source": [
    "В алгоритме DBSCAN важную роль играет параметр eps. eps - это максимальное растояние между точками, при котором они считаются соседними. Чем меньше eps тем больше потенциальных кластеров будет найдено. Чтобы принять окончательное решение о гипперпараметрах DBSCAN сделаем следующее мы прогоним алгоритм DBSCAN при разных eps и будем отслеживать значение коэффициента силуэта и количество найденых кластеров."
   ]
  },
  {
   "cell_type": "code",
   "execution_count": 25,
   "id": "672de00b",
   "metadata": {},
   "outputs": [
    {
     "data": {
      "text/plain": [
       "Text(0, 0.5, 'Количество кластеров')"
      ]
     },
     "execution_count": 25,
     "metadata": {},
     "output_type": "execute_result"
    },
    {
     "data": {
      "image/png": "[encoded data removed]",
      "text/plain": [
       "<Figure size 432x288 with 2 Axes>"
      ]
     },
     "metadata": {
      "needs_background": "light"
     },
     "output_type": "display_data"
    }
   ],
   "source": [
    "silhouette = []\n",
    "number_of_clusters = []\n",
    "distances = range(4, 20)\n",
    "# перебираем потенциальные значения eps\n",
    "for i in distances:\n",
    "    dbscan = DBSCAN(eps=i,\n",
    "                    n_jobs=-1 # этот параметр задействует все ядра процессора при вычислениях\n",
    "                   )\n",
    "    dbscan.fit(features_pca)\n",
    "    score = silhouette_score(features_pca, dbscan.labels_)\n",
    "    silhouette.append(score)\n",
    "    # для подсчета найденных кластеров используем объект Counter \n",
    "    # он возвращает словарь типа (уникальные значения: кол-во этих значений в массиве)\n",
    "    clusters = len(Counter(dbscan.labels_))\n",
    "    number_of_clusters.append(clusters)\n",
    "# построение графиков\n",
    "plt.figure()\n",
    "# график коеф.силуета\n",
    "plt.subplot(211)\n",
    "plt.plot(distances, silhouette)\n",
    "plt.xlabel('eps')\n",
    "plt.ylabel('Коеффициент силуэта')\n",
    "\n",
    "plt.subplot(212)\n",
    "plt.plot(distances, number_of_clusters)\n",
    "plt.xlabel('eps')\n",
    "plt.ylabel('Количество кластеров')"
   ]
  },
  {
   "cell_type": "markdown",
   "id": "ccb80be9",
   "metadata": {},
   "source": [
    "Теперь осталось принять последнее решение чему будет равно eps 9 или 10. Несмотря на рост коэффициента силуэта мы не можем утверждать что при больших значениях eps алгоритм работает лучше, потому что все что происходит после eps=10 это присваивание метки единственного кластера к образцам, которые до этого считались шумом. Я буду склонен к гипотезе о том, что в этом наборе данных два кластера и образцы относящиеся к \"шуму\""
   ]
  },
  {
   "cell_type": "markdown",
   "id": "2ef4a752",
   "metadata": {},
   "source": [
    "# Распределение игроков"
   ]
  },
  {
   "cell_type": "code",
   "execution_count": 36,
   "id": "a7fd344c",
   "metadata": {},
   "outputs": [
    {
     "data": {
      "text/html": [
       "<div>\n",
       "<style scoped>\n",
       "    .dataframe tbody tr th:only-of-type {\n",
       "        vertical-align: middle;\n",
       "    }\n",
       "\n",
       "    .dataframe tbody tr th {\n",
       "        vertical-align: top;\n",
       "    }\n",
       "\n",
       "    .dataframe thead th {\n",
       "        text-align: right;\n",
       "    }\n",
       "</style>\n",
       "<table border=\"1\" class=\"dataframe\">\n",
       "  <thead>\n",
       "    <tr style=\"text-align: right;\">\n",
       "      <th></th>\n",
       "      <th>player</th>\n",
       "      <th>groupNum</th>\n",
       "    </tr>\n",
       "  </thead>\n",
       "  <tbody>\n",
       "    <tr>\n",
       "      <th>0</th>\n",
       "      <td>player1</td>\n",
       "      <td>0</td>\n",
       "    </tr>\n",
       "    <tr>\n",
       "      <th>1</th>\n",
       "      <td>player2</td>\n",
       "      <td>-1</td>\n",
       "    </tr>\n",
       "    <tr>\n",
       "      <th>2</th>\n",
       "      <td>player3</td>\n",
       "      <td>0</td>\n",
       "    </tr>\n",
       "    <tr>\n",
       "      <th>3</th>\n",
       "      <td>player4</td>\n",
       "      <td>0</td>\n",
       "    </tr>\n",
       "    <tr>\n",
       "      <th>4</th>\n",
       "      <td>player5</td>\n",
       "      <td>0</td>\n",
       "    </tr>\n",
       "    <tr>\n",
       "      <th>...</th>\n",
       "      <td>...</td>\n",
       "      <td>...</td>\n",
       "    </tr>\n",
       "    <tr>\n",
       "      <th>542</th>\n",
       "      <td>player543</td>\n",
       "      <td>0</td>\n",
       "    </tr>\n",
       "    <tr>\n",
       "      <th>543</th>\n",
       "      <td>player544</td>\n",
       "      <td>-1</td>\n",
       "    </tr>\n",
       "    <tr>\n",
       "      <th>544</th>\n",
       "      <td>player545</td>\n",
       "      <td>0</td>\n",
       "    </tr>\n",
       "    <tr>\n",
       "      <th>545</th>\n",
       "      <td>player546</td>\n",
       "      <td>-1</td>\n",
       "    </tr>\n",
       "    <tr>\n",
       "      <th>546</th>\n",
       "      <td>player547</td>\n",
       "      <td>0</td>\n",
       "    </tr>\n",
       "  </tbody>\n",
       "</table>\n",
       "<p>547 rows × 2 columns</p>\n",
       "</div>"
      ],
      "text/plain": [
       "        player  groupNum\n",
       "0      player1         0\n",
       "1      player2        -1\n",
       "2      player3         0\n",
       "3      player4         0\n",
       "4      player5         0\n",
       "..         ...       ...\n",
       "542  player543         0\n",
       "543  player544        -1\n",
       "544  player545         0\n",
       "545  player546        -1\n",
       "546  player547         0\n",
       "\n",
       "[547 rows x 2 columns]"
      ]
     },
     "execution_count": 36,
     "metadata": {},
     "output_type": "execute_result"
    }
   ],
   "source": [
    "dbscan = DBSCAN(eps=9, n_jobs=-1)\n",
    "dbscan.fit(features_pca)\n",
    "# создадим новую таблицу с игроками и их принадлежностью к какому либо стилю\n",
    "# если у игрока стоит -1 значит он не относится ни к одному кластеру\n",
    "player_style = pd.DataFrame(data['player'])\n",
    "player_style['groupNum'] = dbscan.labels_\n",
    "player_style.to_excel('Answer_to_task2.xlsx', index=False)\n",
    "player_style"
   ]
  },
  {
   "cell_type": "code",
   "execution_count": 32,
   "id": "f466569a",
   "metadata": {},
   "outputs": [
    {
     "data": {
      "text/plain": [
       "<matplotlib.collections.PathCollection at 0x7f6acc48f1f0>"
      ]
     },
     "execution_count": 32,
     "metadata": {},
     "output_type": "execute_result"
    },
    {
     "data": {
      "image/png": "[encoded data removed]",
      "text/plain": [
       "<Figure size 432x288 with 1 Axes>"
      ]
     },
     "metadata": {
      "needs_background": "light"
     },
     "output_type": "display_data"
    }
   ],
   "source": [
    "# визуализируем кластеризацию\n",
    "pca_visual = PCA(n_components=2)\n",
    "# снижаем размерность с 98 до 2\n",
    "visual_features = pca_visual.fit_transform(features_std)\n",
    "# эти два показателя будут х и у для визуализации на координатной сетке\n",
    "x = visual_features[:, 0]\n",
    "y = visual_features[:, 1]\n",
    "# нарисовать точечную диаграмму\n",
    "plt.scatter(x, y, c=dbscan.labels_)"
   ]
  },
  {
   "cell_type": "code",
   "execution_count": null,
   "id": "5a3f9cd4",
   "metadata": {},
   "outputs": [],
   "source": []
  }
 ],
 "metadata": {
  "kernelspec": {
   "display_name": "Python 3 (ipykernel)",
   "language": "python",
   "name": "python3"
  },
  "language_info": {
   "codemirror_mode": {
    "name": "ipython",
    "version": 3
   },
   "file_extension": ".py",
   "mimetype": "text/x-python",
   "name": "python",
   "nbconvert_exporter": "python",
   "pygments_lexer": "ipython3",
   "version": "3.10.4"
  }
 },
 "nbformat": 4,
 "nbformat_minor": 5
}
